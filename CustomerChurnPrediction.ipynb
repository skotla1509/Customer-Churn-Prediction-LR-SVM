{
  "nbformat": 4,
  "nbformat_minor": 0,
  "metadata": {
    "colab": {
      "provenance": [],
      "toc_visible": true
    },
    "kernelspec": {
      "name": "python3",
      "display_name": "Python 3"
    },
    "language_info": {
      "name": "python"
    }
  },
  "cells": [
    {
      "cell_type": "markdown",
      "source": [
        "# Data Loading"
      ],
      "metadata": {
        "id": "MSab60D2VLOR"
      }
    },
    {
      "cell_type": "code",
      "execution_count": 31,
      "metadata": {
        "id": "4xiBs5T8IfwT",
        "colab": {
          "base_uri": "https://localhost:8080/"
        },
        "outputId": "961ba69f-87cc-4948-8418-a7df806db92a"
      },
      "outputs": [
        {
          "output_type": "stream",
          "name": "stdout",
          "text": [
            "Drive already mounted at /content/drive; to attempt to forcibly remount, call drive.mount(\"/content/drive\", force_remount=True).\n"
          ]
        }
      ],
      "source": [
        "from google.colab import drive\n",
        "drive.mount('/content/drive')"
      ]
    },
    {
      "cell_type": "code",
      "source": [
        "import os\n",
        "import pandas as pd\n",
        "from scipy import stats\n",
        "import numpy as np\n",
        "import matplotlib.pyplot as plt\n",
        "\n",
        "from sklearn.feature_selection import VarianceThreshold\n",
        "from sklearn.preprocessing import StandardScaler, LabelEncoder\n",
        "from sklearn.model_selection import train_test_split\n"
      ],
      "metadata": {
        "id": "AWcPHLeKP7QN"
      },
      "execution_count": 32,
      "outputs": []
    },
    {
      "cell_type": "code",
      "source": [
        "# sindhu\n",
        "path = r'drive/My Drive/FAI/Code/dataset'"
      ],
      "metadata": {
        "id": "hVSGkK_GN_39"
      },
      "execution_count": 33,
      "outputs": []
    },
    {
      "cell_type": "code",
      "source": [
        "file_list = os.listdir(path)\n",
        "print(file_list)"
      ],
      "metadata": {
        "colab": {
          "base_uri": "https://localhost:8080/"
        },
        "id": "IR_bBqx3Or1F",
        "outputId": "b9125465-5387-452f-e530-3f2715888bc8"
      },
      "execution_count": 34,
      "outputs": [
        {
          "output_type": "stream",
          "name": "stdout",
          "text": [
            "['Telco_customer_churn_population.xlsx', 'Telco_customer_churn_services.xlsx', 'Telco_customer_churn_status.xlsx', 'Telco_customer_churn_demographics.xlsx', 'Telco_customer_churn_location.xlsx', 'Telco_customer_churn.xlsx']\n"
          ]
        }
      ]
    },
    {
      "cell_type": "code",
      "source": [
        "import pandas as pd\n",
        "\n",
        "demographics_df = pd.read_excel(path + '/Telco_customer_churn_demographics.xlsx')\n",
        "location_df = pd.read_excel(path + '/Telco_customer_churn_location.xlsx')\n",
        "population_df = pd.read_excel(path + '/Telco_customer_churn_population.xlsx')\n",
        "services_df = pd.read_excel(path + '/Telco_customer_churn_services.xlsx')\n",
        "status_df = pd.read_excel(path + '/Telco_customer_churn_status.xlsx')\n"
      ],
      "metadata": {
        "id": "QZI6J3BOOz_8"
      },
      "execution_count": 40,
      "outputs": []
    },
    {
      "cell_type": "code",
      "source": [
        "print(demographics_df.head())\n",
        "print(\"------------------------------------------------------------------------\")\n",
        "print(location_df.head())\n",
        "print(\"------------------------------------------------------------------------\")\n",
        "print(population_df.head())\n",
        "print(\"------------------------------------------------------------------------\")\n",
        "print(services_df.head())\n",
        "print(\"------------------------------------------------------------------------\")\n",
        "print(status_df.head())"
      ],
      "metadata": {
        "colab": {
          "base_uri": "https://localhost:8080/"
        },
        "id": "AaNVLDiSR1a8",
        "outputId": "b64c26d0-e9b9-4fa8-90fe-25530c6a2809"
      },
      "execution_count": 41,
      "outputs": [
        {
          "output_type": "stream",
          "name": "stdout",
          "text": [
            "  Customer ID  Count  Gender  Age Under 30 Senior Citizen Married Dependents  \\\n",
            "0  8779-QRDMV      1    Male   78       No            Yes      No         No   \n",
            "1  7495-OOKFY      1  Female   74       No            Yes     Yes        Yes   \n",
            "2  1658-BYGOY      1    Male   71       No            Yes      No        Yes   \n",
            "3  4598-XLKNJ      1  Female   78       No            Yes     Yes        Yes   \n",
            "4  4846-WHAFZ      1  Female   80       No            Yes     Yes        Yes   \n",
            "\n",
            "   Number of Dependents  \n",
            "0                     0  \n",
            "1                     1  \n",
            "2                     3  \n",
            "3                     1  \n",
            "4                     1  \n",
            "------------------------------------------------------------------------\n",
            "  Customer ID  Count        Country       State         City  Zip Code  \\\n",
            "0  8779-QRDMV      1  United States  California  Los Angeles     90022   \n",
            "1  7495-OOKFY      1  United States  California  Los Angeles     90063   \n",
            "2  1658-BYGOY      1  United States  California  Los Angeles     90065   \n",
            "3  4598-XLKNJ      1  United States  California    Inglewood     90303   \n",
            "4  4846-WHAFZ      1  United States  California     Whittier     90602   \n",
            "\n",
            "                 Lat Long   Latitude   Longitude  \n",
            "0   34.02381, -118.156582  34.023810 -118.156582  \n",
            "1  34.044271, -118.185237  34.044271 -118.185237  \n",
            "2  34.108833, -118.229715  34.108833 -118.229715  \n",
            "3  33.936291, -118.332639  33.936291 -118.332639  \n",
            "4  33.972119, -118.020188  33.972119 -118.020188  \n",
            "------------------------------------------------------------------------\n",
            "   ID  Zip Code  Population\n",
            "0   1     90001       54492\n",
            "1   2     90002       44586\n",
            "2   3     90003       58198\n",
            "3   4     90004       67852\n",
            "4   5     90005       43019\n",
            "------------------------------------------------------------------------\n",
            "  Customer ID  Count Quarter Referred a Friend  Number of Referrals  \\\n",
            "0  8779-QRDMV      1      Q3                No                    0   \n",
            "1  7495-OOKFY      1      Q3               Yes                    1   \n",
            "2  1658-BYGOY      1      Q3                No                    0   \n",
            "3  4598-XLKNJ      1      Q3               Yes                    1   \n",
            "4  4846-WHAFZ      1      Q3               Yes                    1   \n",
            "\n",
            "   Tenure in Months    Offer Phone Service  Avg Monthly Long Distance Charges  \\\n",
            "0                 1      NaN            No                               0.00   \n",
            "1                 8  Offer E           Yes                              48.85   \n",
            "2                18  Offer D           Yes                              11.33   \n",
            "3                25  Offer C           Yes                              19.76   \n",
            "4                37  Offer C           Yes                               6.33   \n",
            "\n",
            "  Multiple Lines  ... Unlimited Data        Contract  Paperless Billing  \\\n",
            "0             No  ...             No  Month-to-Month                Yes   \n",
            "1            Yes  ...            Yes  Month-to-Month                Yes   \n",
            "2            Yes  ...            Yes  Month-to-Month                Yes   \n",
            "3             No  ...            Yes  Month-to-Month                Yes   \n",
            "4            Yes  ...            Yes  Month-to-Month                Yes   \n",
            "\n",
            "    Payment Method Monthly Charge Total Charges Total Refunds  \\\n",
            "0  Bank Withdrawal          39.65         39.65          0.00   \n",
            "1      Credit Card          80.65        633.30          0.00   \n",
            "2  Bank Withdrawal          95.45       1752.55         45.61   \n",
            "3  Bank Withdrawal          98.50       2514.50         13.43   \n",
            "4  Bank Withdrawal          76.50       2868.15          0.00   \n",
            "\n",
            "  Total Extra Data Charges Total Long Distance Charges Total Revenue  \n",
            "0                       20                        0.00         59.65  \n",
            "1                        0                      390.80       1024.10  \n",
            "2                        0                      203.94       1910.88  \n",
            "3                        0                      494.00       2995.07  \n",
            "4                        0                      234.21       3102.36  \n",
            "\n",
            "[5 rows x 30 columns]\n",
            "------------------------------------------------------------------------\n",
            "  Customer ID  Count Quarter  Satisfaction Score Customer Status Churn Label  \\\n",
            "0  8779-QRDMV      1      Q3                   3         Churned         Yes   \n",
            "1  7495-OOKFY      1      Q3                   3         Churned         Yes   \n",
            "2  1658-BYGOY      1      Q3                   2         Churned         Yes   \n",
            "3  4598-XLKNJ      1      Q3                   2         Churned         Yes   \n",
            "4  4846-WHAFZ      1      Q3                   2         Churned         Yes   \n",
            "\n",
            "   Churn Value  Churn Score  CLTV   Churn Category  \\\n",
            "0            1           91  5433       Competitor   \n",
            "1            1           69  5302       Competitor   \n",
            "2            1           81  3179       Competitor   \n",
            "3            1           88  5337  Dissatisfaction   \n",
            "4            1           67  2793            Price   \n",
            "\n",
            "                   Churn Reason  \n",
            "0  Competitor offered more data  \n",
            "1  Competitor made better offer  \n",
            "2  Competitor made better offer  \n",
            "3     Limited range of services  \n",
            "4            Extra data charges  \n"
          ]
        }
      ]
    },
    {
      "cell_type": "code",
      "source": [
        "# Merge on CustomerID\n",
        "df = pd.merge(demographics_df, location_df, on='Customer ID')\n",
        "df = pd.merge(df, services_df, on='Customer ID')\n",
        "# Rename the 'Count' column in status_df before merging to avoid conflict\n",
        "status_df = status_df.rename(columns={'Count': 'Status_Count_x'})\n",
        "df = pd.merge(df, status_df, on='Customer ID')\n",
        "\n",
        "\n",
        "# Merge Population data\n",
        "df = pd.merge(df, population_df, on='Zip Code')\n",
        "print(df.head())"
      ],
      "metadata": {
        "colab": {
          "base_uri": "https://localhost:8080/"
        },
        "id": "PGbUKCay1Ll1",
        "outputId": "ea8e2b4d-5ce3-4a2c-8313-7968d30b0f2e"
      },
      "execution_count": 42,
      "outputs": [
        {
          "output_type": "stream",
          "name": "stdout",
          "text": [
            "  Customer ID  Count_x  Gender  Age Under 30 Senior Citizen Married  \\\n",
            "0  8779-QRDMV        1    Male   78       No            Yes      No   \n",
            "1  7495-OOKFY        1  Female   74       No            Yes     Yes   \n",
            "2  1658-BYGOY        1    Male   71       No            Yes      No   \n",
            "3  4598-XLKNJ        1  Female   78       No            Yes     Yes   \n",
            "4  4846-WHAFZ        1  Female   80       No            Yes     Yes   \n",
            "\n",
            "  Dependents  Number of Dependents  Count_y  ... Satisfaction Score  \\\n",
            "0         No                     0        1  ...                  3   \n",
            "1        Yes                     1        1  ...                  3   \n",
            "2        Yes                     3        1  ...                  2   \n",
            "3        Yes                     1        1  ...                  2   \n",
            "4        Yes                     1        1  ...                  2   \n",
            "\n",
            "  Customer Status Churn Label  Churn Value Churn Score  CLTV   Churn Category  \\\n",
            "0         Churned         Yes            1          91  5433       Competitor   \n",
            "1         Churned         Yes            1          69  5302       Competitor   \n",
            "2         Churned         Yes            1          81  3179       Competitor   \n",
            "3         Churned         Yes            1          88  5337  Dissatisfaction   \n",
            "4         Churned         Yes            1          67  2793            Price   \n",
            "\n",
            "                   Churn Reason   ID Population  \n",
            "0  Competitor offered more data   21      68701  \n",
            "1  Competitor made better offer   54      55668  \n",
            "2  Competitor made better offer   56      47534  \n",
            "3     Limited range of services  100      27778  \n",
            "4            Extra data charges  114      26265  \n",
            "\n",
            "[5 rows x 58 columns]\n"
          ]
        }
      ]
    },
    {
      "cell_type": "code",
      "source": [
        "df.columns"
      ],
      "metadata": {
        "colab": {
          "base_uri": "https://localhost:8080/"
        },
        "id": "Jy1hFiFaVVd8",
        "outputId": "8e093667-b639-4496-8d88-8b051f3ccf1b"
      },
      "execution_count": 43,
      "outputs": [
        {
          "output_type": "execute_result",
          "data": {
            "text/plain": [
              "Index(['Customer ID', 'Count_x', 'Gender', 'Age', 'Under 30', 'Senior Citizen',\n",
              "       'Married', 'Dependents', 'Number of Dependents', 'Count_y', 'Country',\n",
              "       'State', 'City', 'Zip Code', 'Lat Long', 'Latitude', 'Longitude',\n",
              "       'Count', 'Quarter_x', 'Referred a Friend', 'Number of Referrals',\n",
              "       'Tenure in Months', 'Offer', 'Phone Service',\n",
              "       'Avg Monthly Long Distance Charges', 'Multiple Lines',\n",
              "       'Internet Service', 'Internet Type', 'Avg Monthly GB Download',\n",
              "       'Online Security', 'Online Backup', 'Device Protection Plan',\n",
              "       'Premium Tech Support', 'Streaming TV', 'Streaming Movies',\n",
              "       'Streaming Music', 'Unlimited Data', 'Contract', 'Paperless Billing',\n",
              "       'Payment Method', 'Monthly Charge', 'Total Charges', 'Total Refunds',\n",
              "       'Total Extra Data Charges', 'Total Long Distance Charges',\n",
              "       'Total Revenue', 'Status_Count_x', 'Quarter_y', 'Satisfaction Score',\n",
              "       'Customer Status', 'Churn Label', 'Churn Value', 'Churn Score', 'CLTV',\n",
              "       'Churn Category', 'Churn Reason', 'ID', 'Population'],\n",
              "      dtype='object')"
            ]
          },
          "metadata": {},
          "execution_count": 43
        }
      ]
    },
    {
      "cell_type": "code",
      "source": [
        "# Identify and remove duplicate columns which got inserted during the merge operation\n",
        "duplicate_columns = []\n",
        "for col in df.columns:\n",
        "    if col.endswith('_x') or col.endswith('_y'):\n",
        "        duplicate_columns.append(col)\n",
        "\n",
        "print(\"Duplicate columns:\", duplicate_columns)\n",
        "\n",
        "df.drop(columns=duplicate_columns, inplace=True)"
      ],
      "metadata": {
        "colab": {
          "base_uri": "https://localhost:8080/"
        },
        "id": "RRJZs1ggVarT",
        "outputId": "53e0d4b2-e346-4c06-ea00-367a5e61fee1"
      },
      "execution_count": 44,
      "outputs": [
        {
          "output_type": "stream",
          "name": "stdout",
          "text": [
            "Duplicate columns: ['Count_x', 'Count_y', 'Quarter_x', 'Status_Count_x', 'Quarter_y']\n"
          ]
        }
      ]
    },
    {
      "cell_type": "code",
      "source": [
        "print(df.head())"
      ],
      "metadata": {
        "colab": {
          "base_uri": "https://localhost:8080/"
        },
        "id": "Shgj2NmEVopT",
        "outputId": "2d894298-e25b-47c3-9bfa-6e14df46cc7e"
      },
      "execution_count": 45,
      "outputs": [
        {
          "output_type": "stream",
          "name": "stdout",
          "text": [
            "  Customer ID  Gender  Age Under 30 Senior Citizen Married Dependents  \\\n",
            "0  8779-QRDMV    Male   78       No            Yes      No         No   \n",
            "1  7495-OOKFY  Female   74       No            Yes     Yes        Yes   \n",
            "2  1658-BYGOY    Male   71       No            Yes      No        Yes   \n",
            "3  4598-XLKNJ  Female   78       No            Yes     Yes        Yes   \n",
            "4  4846-WHAFZ  Female   80       No            Yes     Yes        Yes   \n",
            "\n",
            "   Number of Dependents        Country       State  ... Satisfaction Score  \\\n",
            "0                     0  United States  California  ...                  3   \n",
            "1                     1  United States  California  ...                  3   \n",
            "2                     3  United States  California  ...                  2   \n",
            "3                     1  United States  California  ...                  2   \n",
            "4                     1  United States  California  ...                  2   \n",
            "\n",
            "   Customer Status Churn Label  Churn Value  Churn Score  CLTV  \\\n",
            "0          Churned         Yes            1           91  5433   \n",
            "1          Churned         Yes            1           69  5302   \n",
            "2          Churned         Yes            1           81  3179   \n",
            "3          Churned         Yes            1           88  5337   \n",
            "4          Churned         Yes            1           67  2793   \n",
            "\n",
            "    Churn Category                  Churn Reason   ID Population  \n",
            "0       Competitor  Competitor offered more data   21      68701  \n",
            "1       Competitor  Competitor made better offer   54      55668  \n",
            "2       Competitor  Competitor made better offer   56      47534  \n",
            "3  Dissatisfaction     Limited range of services  100      27778  \n",
            "4            Price            Extra data charges  114      26265  \n",
            "\n",
            "[5 rows x 53 columns]\n"
          ]
        }
      ]
    },
    {
      "cell_type": "markdown",
      "source": [
        "# Data Cleaning\n",
        "The below steps are followed:\n",
        "1. Check and fill in for the missing values\n",
        "2. Check and remove duplicate rows"
      ],
      "metadata": {
        "id": "EaoOVXIMLOwa"
      }
    },
    {
      "cell_type": "code",
      "source": [
        "# 1. Checking for any missing values\n",
        "print(df.isnull().sum())"
      ],
      "metadata": {
        "colab": {
          "base_uri": "https://localhost:8080/"
        },
        "id": "jE7NHZMy7Brt",
        "outputId": "47572b65-a2de-4fd1-9257-80350b71c602"
      },
      "execution_count": 46,
      "outputs": [
        {
          "output_type": "stream",
          "name": "stdout",
          "text": [
            "Customer ID                             0\n",
            "Gender                                  0\n",
            "Age                                     0\n",
            "Under 30                                0\n",
            "Senior Citizen                          0\n",
            "Married                                 0\n",
            "Dependents                              0\n",
            "Number of Dependents                    0\n",
            "Country                                 0\n",
            "State                                   0\n",
            "City                                    0\n",
            "Zip Code                                0\n",
            "Lat Long                                0\n",
            "Latitude                                0\n",
            "Longitude                               0\n",
            "Count                                   0\n",
            "Referred a Friend                       0\n",
            "Number of Referrals                     0\n",
            "Tenure in Months                        0\n",
            "Offer                                3877\n",
            "Phone Service                           0\n",
            "Avg Monthly Long Distance Charges       0\n",
            "Multiple Lines                          0\n",
            "Internet Service                        0\n",
            "Internet Type                        1526\n",
            "Avg Monthly GB Download                 0\n",
            "Online Security                         0\n",
            "Online Backup                           0\n",
            "Device Protection Plan                  0\n",
            "Premium Tech Support                    0\n",
            "Streaming TV                            0\n",
            "Streaming Movies                        0\n",
            "Streaming Music                         0\n",
            "Unlimited Data                          0\n",
            "Contract                                0\n",
            "Paperless Billing                       0\n",
            "Payment Method                          0\n",
            "Monthly Charge                          0\n",
            "Total Charges                           0\n",
            "Total Refunds                           0\n",
            "Total Extra Data Charges                0\n",
            "Total Long Distance Charges             0\n",
            "Total Revenue                           0\n",
            "Satisfaction Score                      0\n",
            "Customer Status                         0\n",
            "Churn Label                             0\n",
            "Churn Value                             0\n",
            "Churn Score                             0\n",
            "CLTV                                    0\n",
            "Churn Category                       5174\n",
            "Churn Reason                         5174\n",
            "ID                                      0\n",
            "Population                              0\n",
            "dtype: int64\n"
          ]
        }
      ]
    },
    {
      "cell_type": "code",
      "source": [
        "# We can see that Churn Reason and Churn Category has a lot of missing values.\n",
        "# This is expected because for customers who have not churned, there isn't any reason.\n",
        "# So we will fill in the missing values with either NA or Not churned based on their churn status\n",
        "\n",
        "\n",
        "df.loc[(df['Churn Reason'].isnull()) & (df['Churn Value'] == 1), 'Churn Reason'] = 'NA'\n",
        "df.loc[(df['Churn Reason'].isnull()) & (df['Churn Value'] == 0), 'Churn Reason'] = 'Not Churned'\n",
        "\n",
        "df.loc[(df['Churn Category'].isnull()) & (df['Churn Value'] == 1), 'Churn Category'] = 'NA'\n",
        "df.loc[(df['Churn Category'].isnull()) & (df['Churn Value'] == 0), 'Churn Category'] = 'Not Churned'\n",
        "\n",
        "# Checking for missing values to verify\n",
        "print(df.isnull().sum())"
      ],
      "metadata": {
        "colab": {
          "base_uri": "https://localhost:8080/"
        },
        "id": "StJbKtQX9R49",
        "outputId": "04b5894b-2e51-4d6b-a259-ccadbd3a1b40"
      },
      "execution_count": 47,
      "outputs": [
        {
          "output_type": "stream",
          "name": "stdout",
          "text": [
            "Customer ID                             0\n",
            "Gender                                  0\n",
            "Age                                     0\n",
            "Under 30                                0\n",
            "Senior Citizen                          0\n",
            "Married                                 0\n",
            "Dependents                              0\n",
            "Number of Dependents                    0\n",
            "Country                                 0\n",
            "State                                   0\n",
            "City                                    0\n",
            "Zip Code                                0\n",
            "Lat Long                                0\n",
            "Latitude                                0\n",
            "Longitude                               0\n",
            "Count                                   0\n",
            "Referred a Friend                       0\n",
            "Number of Referrals                     0\n",
            "Tenure in Months                        0\n",
            "Offer                                3877\n",
            "Phone Service                           0\n",
            "Avg Monthly Long Distance Charges       0\n",
            "Multiple Lines                          0\n",
            "Internet Service                        0\n",
            "Internet Type                        1526\n",
            "Avg Monthly GB Download                 0\n",
            "Online Security                         0\n",
            "Online Backup                           0\n",
            "Device Protection Plan                  0\n",
            "Premium Tech Support                    0\n",
            "Streaming TV                            0\n",
            "Streaming Movies                        0\n",
            "Streaming Music                         0\n",
            "Unlimited Data                          0\n",
            "Contract                                0\n",
            "Paperless Billing                       0\n",
            "Payment Method                          0\n",
            "Monthly Charge                          0\n",
            "Total Charges                           0\n",
            "Total Refunds                           0\n",
            "Total Extra Data Charges                0\n",
            "Total Long Distance Charges             0\n",
            "Total Revenue                           0\n",
            "Satisfaction Score                      0\n",
            "Customer Status                         0\n",
            "Churn Label                             0\n",
            "Churn Value                             0\n",
            "Churn Score                             0\n",
            "CLTV                                    0\n",
            "Churn Category                          0\n",
            "Churn Reason                            0\n",
            "ID                                      0\n",
            "Population                              0\n",
            "dtype: int64\n"
          ]
        }
      ]
    },
    {
      "cell_type": "code",
      "source": [
        "# 2. Checking for any duplicate rows\n",
        "df = df.drop_duplicates()"
      ],
      "metadata": {
        "id": "Yc2-SNjj9nwJ"
      },
      "execution_count": 48,
      "outputs": []
    },
    {
      "cell_type": "markdown",
      "source": [
        "# Feature Engineering\n",
        "\n",
        "In this step, we will analyse and choose the most relevant features to train our model. We create a summary of each feature to understand which of the features are more important to predict the churn outcome.\n"
      ],
      "metadata": {
        "id": "7JQSPcC6L_0P"
      }
    },
    {
      "cell_type": "code",
      "source": [
        "# 1. Create feature summary\n",
        "feature_summary = []\n",
        "\n",
        "for feature in df.columns:\n",
        "    unique_values = np.unique(df[feature].astype(str))\n",
        "    feature_summary.append({\n",
        "        \"column_name\": feature,\n",
        "        'unique_value_count': len(unique_values),\n",
        "        'total_count': len(df),\n",
        "        'unique_values': unique_values,\n",
        "        'Datatype': df[feature].dtype\n",
        "    })\n",
        "\n",
        "print(pd.DataFrame(feature_summary))"
      ],
      "metadata": {
        "colab": {
          "base_uri": "https://localhost:8080/"
        },
        "id": "2MZYmiERKdIf",
        "outputId": "6ada79ab-d3ae-43a1-fcd8-cf873e7b58ac"
      },
      "execution_count": 49,
      "outputs": [
        {
          "output_type": "stream",
          "name": "stdout",
          "text": [
            "                          column_name  unique_value_count  total_count  \\\n",
            "0                         Customer ID                7043         7043   \n",
            "1                              Gender                   2         7043   \n",
            "2                                 Age                  62         7043   \n",
            "3                            Under 30                   2         7043   \n",
            "4                      Senior Citizen                   2         7043   \n",
            "5                             Married                   2         7043   \n",
            "6                          Dependents                   2         7043   \n",
            "7                Number of Dependents                  10         7043   \n",
            "8                             Country                   1         7043   \n",
            "9                               State                   1         7043   \n",
            "10                               City                1106         7043   \n",
            "11                           Zip Code                1626         7043   \n",
            "12                           Lat Long                1679         7043   \n",
            "13                           Latitude                1626         7043   \n",
            "14                          Longitude                1625         7043   \n",
            "15                              Count                   1         7043   \n",
            "16                  Referred a Friend                   2         7043   \n",
            "17                Number of Referrals                  12         7043   \n",
            "18                   Tenure in Months                  72         7043   \n",
            "19                              Offer                   6         7043   \n",
            "20                      Phone Service                   2         7043   \n",
            "21  Avg Monthly Long Distance Charges                3584         7043   \n",
            "22                     Multiple Lines                   2         7043   \n",
            "23                   Internet Service                   2         7043   \n",
            "24                      Internet Type                   4         7043   \n",
            "25            Avg Monthly GB Download                  50         7043   \n",
            "26                    Online Security                   2         7043   \n",
            "27                      Online Backup                   2         7043   \n",
            "28             Device Protection Plan                   2         7043   \n",
            "29               Premium Tech Support                   2         7043   \n",
            "30                       Streaming TV                   2         7043   \n",
            "31                   Streaming Movies                   2         7043   \n",
            "32                    Streaming Music                   2         7043   \n",
            "33                     Unlimited Data                   2         7043   \n",
            "34                           Contract                   3         7043   \n",
            "35                  Paperless Billing                   2         7043   \n",
            "36                     Payment Method                   3         7043   \n",
            "37                     Monthly Charge                1585         7043   \n",
            "38                      Total Charges                6540         7043   \n",
            "39                      Total Refunds                 500         7043   \n",
            "40           Total Extra Data Charges                  16         7043   \n",
            "41        Total Long Distance Charges                6110         7043   \n",
            "42                      Total Revenue                6996         7043   \n",
            "43                 Satisfaction Score                   5         7043   \n",
            "44                    Customer Status                   3         7043   \n",
            "45                        Churn Label                   2         7043   \n",
            "46                        Churn Value                   2         7043   \n",
            "47                        Churn Score                  81         7043   \n",
            "48                               CLTV                3438         7043   \n",
            "49                     Churn Category                   6         7043   \n",
            "50                       Churn Reason                  21         7043   \n",
            "51                                 ID                1626         7043   \n",
            "52                         Population                1569         7043   \n",
            "\n",
            "                                        unique_values Datatype  \n",
            "0   [0002-ORFBO, 0003-MKNFE, 0004-TLHLJ, 0011-IGKF...   object  \n",
            "1                                      [Female, Male]   object  \n",
            "2   [19, 20, 21, 22, 23, 24, 25, 26, 27, 28, 29, 3...    int64  \n",
            "3                                           [No, Yes]   object  \n",
            "4                                           [No, Yes]   object  \n",
            "5                                           [No, Yes]   object  \n",
            "6                                           [No, Yes]   object  \n",
            "7                      [0, 1, 2, 3, 4, 5, 6, 7, 8, 9]    int64  \n",
            "8                                     [United States]   object  \n",
            "9                                        [California]   object  \n",
            "10  [Acampo, Acton, Adelanto, Adin, Agoura Hills, ...   object  \n",
            "11  [90001, 90002, 90003, 90004, 90005, 90006, 900...    int64  \n",
            "12  [32.555828, -117.040073, 32.578103, -117.01297...   object  \n",
            "13  [32.555828, 32.578103, 32.579134, 32.587557, 3...  float64  \n",
            "14  [-114.192901, -114.36514, -114.702256, -114.71...  float64  \n",
            "15                                                [1]    int64  \n",
            "16                                          [No, Yes]   object  \n",
            "17             [0, 1, 10, 11, 2, 3, 4, 5, 6, 7, 8, 9]    int64  \n",
            "18  [1, 10, 11, 12, 13, 14, 15, 16, 17, 18, 19, 2,...    int64  \n",
            "19  [Offer A, Offer B, Offer C, Offer D, Offer E, ...   object  \n",
            "20                                          [No, Yes]   object  \n",
            "21  [0.0, 1.01, 1.02, 1.03, 1.05, 1.06, 1.07, 1.08...  float64  \n",
            "22                                          [No, Yes]   object  \n",
            "23                                          [No, Yes]   object  \n",
            "24                     [Cable, DSL, Fiber Optic, nan]   object  \n",
            "25  [0, 10, 11, 12, 13, 14, 15, 16, 17, 18, 19, 2,...    int64  \n",
            "26                                          [No, Yes]   object  \n",
            "27                                          [No, Yes]   object  \n",
            "28                                          [No, Yes]   object  \n",
            "29                                          [No, Yes]   object  \n",
            "30                                          [No, Yes]   object  \n",
            "31                                          [No, Yes]   object  \n",
            "32                                          [No, Yes]   object  \n",
            "33                                          [No, Yes]   object  \n",
            "34               [Month-to-Month, One Year, Two Year]   object  \n",
            "35                                          [No, Yes]   object  \n",
            "36       [Bank Withdrawal, Credit Card, Mailed Check]   object  \n",
            "37  [100.0, 100.05, 100.1, 100.15, 100.2, 100.25, ...  float64  \n",
            "38  [100.2, 100.25, 100.35, 100.4, 100.8, 100.9, 1...  float64  \n",
            "39  [0.0, 1.01, 1.09, 1.27, 1.31, 1.48, 1.65, 1.66...  float64  \n",
            "40  [0, 10, 100, 110, 120, 130, 140, 150, 20, 30, ...    int64  \n",
            "41  [0.0, 1.13, 1.15, 1.17, 1.23, 1.28, 1.47, 1.48...  float64  \n",
            "42  [100.03, 100.11000000000001, 100.2, 100.270000...  float64  \n",
            "43                                    [1, 2, 3, 4, 5]    int64  \n",
            "44                          [Churned, Joined, Stayed]   object  \n",
            "45                                          [No, Yes]   object  \n",
            "46                                             [0, 1]    int64  \n",
            "47  [20, 21, 22, 23, 24, 25, 26, 27, 28, 29, 30, 3...    int64  \n",
            "48  [2003, 2004, 2006, 2007, 2008, 2009, 2010, 201...    int64  \n",
            "49  [Attitude, Competitor, Dissatisfaction, Not Ch...   object  \n",
            "50  [Attitude of service provider, Attitude of sup...   object  \n",
            "51  [1, 10, 100, 1000, 1001, 1002, 1003, 1004, 100...    int64  \n",
            "52  [1004, 1005, 1007, 101, 101215, 10147, 10153, ...    int64  \n"
          ]
        }
      ]
    },
    {
      "cell_type": "code",
      "source": [],
      "metadata": {
        "id": "NFGinLigUQef"
      },
      "execution_count": null,
      "outputs": []
    },
    {
      "cell_type": "markdown",
      "source": [
        "**Findings:**\n",
        "1. We can see that features like `CustomerID`, `Country`, `State` are redundant features. They are either unique for each observation or same for all of the observations. There is also `Lat Long` which seems to be a combination of `Latitude` and `Longitude`. They do not contribute much to our prediction.\n",
        "  - TODO: We can remove them to simplify our model.\n",
        "2. We have few binary features like `Gender`, `Under 30`, `Senior Citizen`, `Married`, `Dependents`, `Referred a Friend`, `Phone Service`, `Multiple Lines`, `Internet Service`, `Online Security`, `Online Backup`, `Device Protection Plan`, `Premium Tech Support`, `Streaming TV`, `Streaming Movies`, `Streaming Music`, `Unlimited Data`, and `Paperless Billing`.\n",
        "  - TODO: We can use label encoding for use in modelling where the algorithms need numerical inputs.\n",
        "3. We also have features with multiple categories like `Internet Type`, `Contract`, `Payment Method`, `Customer Status`\n",
        "  - TODO: We can use one-hot encoding for use in modelling where the algorithms need numerical inputs.\n",
        "4. There are also continuous numerical features like `Age`, `Number of Dependents`, `Number of Referrals`, `Tenure in Months`, `Avg Monthly Long Distance Charges`, `Avg Monthly GB Download`, `Monthly Charge`, `Total Charges`, `Total Refunds`, `Total Extra Data Charges`, `Total Long Distance Charges`, `Total Revenue`, `Satisfaction Score`, `CLTV`, `Population`\n",
        "  - TODO: These features might need scaling. Certain algorithms like Logistic Regression, SVMs, Neural Networks assume the features are on the same level.\n",
        "  - TODO: The field type of `Total Charges` is an object type but should be numerical. We can perform data cleaning step to convert this to float.\n",
        "5. There are also high cardinality categorical features like `City`, `Zip Code`.\n",
        "  - TODO: These may require special handling like target encoding or clustering.\n",
        "6. As per the official documentation on the IBM website, the features `Churn Label`, `Churn Value`, `Churn Score`, `Customer Status`, `Churn Category` and `Churn Reason` are all directly associated with the outcome of customer churn.\n",
        "  - TODO: We will use `Churn Value` as our target variable. We will remove the remaining features to prevent data leakage."
      ],
      "metadata": {
        "id": "G7AcWavjMRCE"
      }
    },
    {
      "cell_type": "code",
      "source": [
        "# Removing irrelevant features\n",
        "columns_to_remove = ['Customer ID', 'Country', 'State', 'Lat Long']\n",
        "df = df.drop(columns=columns_to_remove)\n",
        "\n",
        "# Removing features directly associated with the target variable to prevent Data Leakage\n",
        "columns_to_remove = ['Churn Category', 'Churn Reason', 'Customer Status', 'Churn Score', 'Churn Label']\n",
        "df = df.drop(columns=columns_to_remove)\n",
        "\n",
        "print(df.head())"
      ],
      "metadata": {
        "colab": {
          "base_uri": "https://localhost:8080/"
        },
        "id": "HYB6oPhNZHQe",
        "outputId": "2b5cd968-28a5-4e0b-9fa6-366745a9aa3a"
      },
      "execution_count": 50,
      "outputs": [
        {
          "output_type": "stream",
          "name": "stdout",
          "text": [
            "   Gender  Age Under 30 Senior Citizen Married Dependents  \\\n",
            "0    Male   78       No            Yes      No         No   \n",
            "1  Female   74       No            Yes     Yes        Yes   \n",
            "2    Male   71       No            Yes      No        Yes   \n",
            "3  Female   78       No            Yes     Yes        Yes   \n",
            "4  Female   80       No            Yes     Yes        Yes   \n",
            "\n",
            "   Number of Dependents         City  Zip Code   Latitude  ...  Total Charges  \\\n",
            "0                     0  Los Angeles     90022  34.023810  ...          39.65   \n",
            "1                     1  Los Angeles     90063  34.044271  ...         633.30   \n",
            "2                     3  Los Angeles     90065  34.108833  ...        1752.55   \n",
            "3                     1    Inglewood     90303  33.936291  ...        2514.50   \n",
            "4                     1     Whittier     90602  33.972119  ...        2868.15   \n",
            "\n",
            "   Total Refunds Total Extra Data Charges  Total Long Distance Charges  \\\n",
            "0           0.00                       20                         0.00   \n",
            "1           0.00                        0                       390.80   \n",
            "2          45.61                        0                       203.94   \n",
            "3          13.43                        0                       494.00   \n",
            "4           0.00                        0                       234.21   \n",
            "\n",
            "   Total Revenue Satisfaction Score Churn Value  CLTV   ID Population  \n",
            "0          59.65                  3           1  5433   21      68701  \n",
            "1        1024.10                  3           1  5302   54      55668  \n",
            "2        1910.88                  2           1  3179   56      47534  \n",
            "3        2995.07                  2           1  5337  100      27778  \n",
            "4        3102.36                  2           1  2793  114      26265  \n",
            "\n",
            "[5 rows x 44 columns]\n"
          ]
        }
      ]
    },
    {
      "cell_type": "code",
      "source": [
        "# Data Type Conversion for 'TotalCharges'\n",
        "def change_dtype(x):\n",
        "    try:\n",
        "        return float(x)\n",
        "    except ValueError:\n",
        "        return 0\n",
        "\n",
        "df['Total Charges'] = df['Total Charges'].apply(lambda x: change_dtype(x))\n",
        "print(df['Total Charges'].dtype)"
      ],
      "metadata": {
        "colab": {
          "base_uri": "https://localhost:8080/"
        },
        "id": "SP1HcdUjORiz",
        "outputId": "e74c6b51-f351-4c3d-a4dc-d4fd8849e004"
      },
      "execution_count": 51,
      "outputs": [
        {
          "output_type": "stream",
          "name": "stdout",
          "text": [
            "float64\n"
          ]
        }
      ]
    },
    {
      "cell_type": "code",
      "source": [
        "# Handling the high-cardinality categorical feature 'City'\n",
        "\n",
        "# Frequency encoding\n",
        "city_freq = df['City'].value_counts()\n",
        "df['City'] = df['City'].map(city_freq)"
      ],
      "metadata": {
        "id": "XwPJXG7j0E7j"
      },
      "execution_count": 52,
      "outputs": []
    },
    {
      "cell_type": "code",
      "source": [
        "# Handling the high-cardinality categorical feature 'Zip Code'\n",
        "\n",
        "\n",
        "# Frequency encoding\n",
        "zip_freq = df['Zip Code'].value_counts()\n",
        "df['Zip Code'] = df['Zip Code'].map(zip_freq)\n",
        "\n",
        "# Target encoding\n",
        "# mean_churn_per_zip = df.groupby('Zip Code')['Churn Value'].mean()\n",
        "# df['Zip_Code_Target_Enc'] = df['Zip Code'].map(mean_churn_per_zip)\n",
        "\n",
        "# df.drop('Zip Code', axis=1, inplace=True)"
      ],
      "metadata": {
        "id": "qYwaAZ_dPrqm"
      },
      "execution_count": 53,
      "outputs": []
    },
    {
      "cell_type": "code",
      "source": [
        "# Handling Categorical Features\n",
        "\n",
        "# Label Encoding for binary variables\n",
        "label_cols = [col for col in df.columns if df[col].nunique() == 2 and df[col].dtype == 'object' and col != 'Churn Value']\n",
        "\n",
        "# Apply label encoding\n",
        "label_encoder = LabelEncoder()\n",
        "for col in label_cols:\n",
        "    df[col] = label_encoder.fit_transform(df[col])\n",
        "\n",
        "\n",
        "label_encoder = LabelEncoder()\n",
        "for col in label_cols:\n",
        "    df[col] = label_encoder.fit_transform(df[col])\n",
        "\n",
        "# One-Hot Encoding for non-binary variables\n",
        "one_hot_cols = [col for col in df.columns if df[col].nunique() > 2 and df[col].dtype == 'object']\n",
        "df = pd.get_dummies(df, columns=one_hot_cols)\n",
        "\n",
        "print(df.head())"
      ],
      "metadata": {
        "colab": {
          "base_uri": "https://localhost:8080/"
        },
        "id": "zE3LwNtKW3wR",
        "outputId": "e01ec702-70b8-4d30-c752-ccb91a9ef5eb"
      },
      "execution_count": 54,
      "outputs": [
        {
          "output_type": "stream",
          "name": "stdout",
          "text": [
            "   Gender  Age  Under 30  Senior Citizen  Married  Dependents  \\\n",
            "0       1   78         0               1        0           0   \n",
            "1       0   74         0               1        1           1   \n",
            "2       1   71         0               1        0           1   \n",
            "3       0   78         0               1        1           1   \n",
            "4       0   80         0               1        1           1   \n",
            "\n",
            "   Number of Dependents  City  Zip Code   Latitude  ...  Offer_Offer E  \\\n",
            "0                     0   293         5  34.023810  ...          False   \n",
            "1                     1   293         5  34.044271  ...           True   \n",
            "2                     3   293         5  34.108833  ...          False   \n",
            "3                     1    25         5  33.936291  ...          False   \n",
            "4                     1    30         5  33.972119  ...          False   \n",
            "\n",
            "   Internet Type_Cable  Internet Type_DSL  Internet Type_Fiber Optic  \\\n",
            "0                False               True                      False   \n",
            "1                False              False                       True   \n",
            "2                False              False                       True   \n",
            "3                False              False                       True   \n",
            "4                False              False                       True   \n",
            "\n",
            "   Contract_Month-to-Month  Contract_One Year  Contract_Two Year  \\\n",
            "0                     True              False              False   \n",
            "1                     True              False              False   \n",
            "2                     True              False              False   \n",
            "3                     True              False              False   \n",
            "4                     True              False              False   \n",
            "\n",
            "   Payment Method_Bank Withdrawal  Payment Method_Credit Card  \\\n",
            "0                            True                       False   \n",
            "1                           False                        True   \n",
            "2                            True                       False   \n",
            "3                            True                       False   \n",
            "4                            True                       False   \n",
            "\n",
            "   Payment Method_Mailed Check  \n",
            "0                        False  \n",
            "1                        False  \n",
            "2                        False  \n",
            "3                        False  \n",
            "4                        False  \n",
            "\n",
            "[5 rows x 54 columns]\n"
          ]
        }
      ]
    },
    {
      "cell_type": "code",
      "source": [
        "# Calculate variances of numerical columns\n",
        "numerical_variances = df.select_dtypes(include=['int64', 'float64']).var()\n",
        "\n",
        "# Choose a 75th percentile as the threshold\n",
        "threshold_variance = numerical_variances.quantile(0.75)\n",
        "\n",
        "print(\"Variance threshold:\", threshold_variance)"
      ],
      "metadata": {
        "colab": {
          "base_uri": "https://localhost:8080/"
        },
        "id": "-VC5wV8phAI7",
        "outputId": "ee67a669-b9da-4311-e959-1308cba52875"
      },
      "execution_count": 55,
      "outputs": [
        {
          "output_type": "stream",
          "name": "stdout",
          "text": [
            "Variance threshold: 463.2780347286899\n"
          ]
        }
      ]
    },
    {
      "cell_type": "code",
      "source": [
        "all_numerical_vars = [col for col in df.select_dtypes(include=['int64', 'float64']).columns if col != 'Churn Value']\n",
        "\n",
        "high_variance_vars = [col for col in df.select_dtypes(include=['int64', 'float64']).columns if df[col].var() > threshold_variance and col != 'Churn Value']"
      ],
      "metadata": {
        "id": "xKMnqHUZgxNp"
      },
      "execution_count": 56,
      "outputs": []
    },
    {
      "cell_type": "code",
      "source": [
        "all_numerical_vars"
      ],
      "metadata": {
        "colab": {
          "base_uri": "https://localhost:8080/"
        },
        "id": "UNuAsKGPhmA7",
        "outputId": "8252ed46-2c2d-4323-d98d-b8bce780c934"
      },
      "execution_count": 57,
      "outputs": [
        {
          "output_type": "execute_result",
          "data": {
            "text/plain": [
              "['Gender',\n",
              " 'Age',\n",
              " 'Under 30',\n",
              " 'Senior Citizen',\n",
              " 'Married',\n",
              " 'Dependents',\n",
              " 'Number of Dependents',\n",
              " 'City',\n",
              " 'Zip Code',\n",
              " 'Latitude',\n",
              " 'Longitude',\n",
              " 'Count',\n",
              " 'Referred a Friend',\n",
              " 'Number of Referrals',\n",
              " 'Tenure in Months',\n",
              " 'Phone Service',\n",
              " 'Avg Monthly Long Distance Charges',\n",
              " 'Multiple Lines',\n",
              " 'Internet Service',\n",
              " 'Avg Monthly GB Download',\n",
              " 'Online Security',\n",
              " 'Online Backup',\n",
              " 'Device Protection Plan',\n",
              " 'Premium Tech Support',\n",
              " 'Streaming TV',\n",
              " 'Streaming Movies',\n",
              " 'Streaming Music',\n",
              " 'Unlimited Data',\n",
              " 'Paperless Billing',\n",
              " 'Monthly Charge',\n",
              " 'Total Charges',\n",
              " 'Total Refunds',\n",
              " 'Total Extra Data Charges',\n",
              " 'Total Long Distance Charges',\n",
              " 'Total Revenue',\n",
              " 'Satisfaction Score',\n",
              " 'CLTV',\n",
              " 'ID',\n",
              " 'Population']"
            ]
          },
          "metadata": {},
          "execution_count": 57
        }
      ]
    },
    {
      "cell_type": "code",
      "source": [
        "high_variance_vars"
      ],
      "metadata": {
        "colab": {
          "base_uri": "https://localhost:8080/"
        },
        "id": "7IWJGfKlh3Hc",
        "outputId": "ec15abcd-5b68-4cf3-e929-424928b9f408"
      },
      "execution_count": 58,
      "outputs": [
        {
          "output_type": "execute_result",
          "data": {
            "text/plain": [
              "['City',\n",
              " 'Tenure in Months',\n",
              " 'Monthly Charge',\n",
              " 'Total Charges',\n",
              " 'Total Extra Data Charges',\n",
              " 'Total Long Distance Charges',\n",
              " 'Total Revenue',\n",
              " 'CLTV',\n",
              " 'ID',\n",
              " 'Population']"
            ]
          },
          "metadata": {},
          "execution_count": 58
        }
      ]
    },
    {
      "cell_type": "code",
      "source": [
        "# Scale the high variance numerical columns\n",
        "scaler = StandardScaler()\n",
        "df[all_numerical_vars] = scaler.fit_transform(df[all_numerical_vars])"
      ],
      "metadata": {
        "id": "ItcdldlVRmNm"
      },
      "execution_count": 59,
      "outputs": []
    },
    {
      "cell_type": "markdown",
      "source": [
        "# Split Data into train and test set"
      ],
      "metadata": {
        "id": "g63Tq4MPYFa1"
      }
    },
    {
      "cell_type": "code",
      "source": [
        "df.columns"
      ],
      "metadata": {
        "colab": {
          "base_uri": "https://localhost:8080/"
        },
        "id": "75Oxo80QiU6Q",
        "outputId": "60f885b6-7644-40cd-862d-a761ff31ab9b"
      },
      "execution_count": 60,
      "outputs": [
        {
          "output_type": "execute_result",
          "data": {
            "text/plain": [
              "Index(['Gender', 'Age', 'Under 30', 'Senior Citizen', 'Married', 'Dependents',\n",
              "       'Number of Dependents', 'City', 'Zip Code', 'Latitude', 'Longitude',\n",
              "       'Count', 'Referred a Friend', 'Number of Referrals', 'Tenure in Months',\n",
              "       'Phone Service', 'Avg Monthly Long Distance Charges', 'Multiple Lines',\n",
              "       'Internet Service', 'Avg Monthly GB Download', 'Online Security',\n",
              "       'Online Backup', 'Device Protection Plan', 'Premium Tech Support',\n",
              "       'Streaming TV', 'Streaming Movies', 'Streaming Music', 'Unlimited Data',\n",
              "       'Paperless Billing', 'Monthly Charge', 'Total Charges', 'Total Refunds',\n",
              "       'Total Extra Data Charges', 'Total Long Distance Charges',\n",
              "       'Total Revenue', 'Satisfaction Score', 'Churn Value', 'CLTV', 'ID',\n",
              "       'Population', 'Offer_Offer A', 'Offer_Offer B', 'Offer_Offer C',\n",
              "       'Offer_Offer D', 'Offer_Offer E', 'Internet Type_Cable',\n",
              "       'Internet Type_DSL', 'Internet Type_Fiber Optic',\n",
              "       'Contract_Month-to-Month', 'Contract_One Year', 'Contract_Two Year',\n",
              "       'Payment Method_Bank Withdrawal', 'Payment Method_Credit Card',\n",
              "       'Payment Method_Mailed Check'],\n",
              "      dtype='object')"
            ]
          },
          "metadata": {},
          "execution_count": 60
        }
      ]
    },
    {
      "cell_type": "code",
      "source": [
        "X = df.drop(['Churn Value'], axis=1)\n",
        "y = df['Churn Value']\n",
        "X_train, X_test, y_train, y_test = train_test_split(X, y, test_size=0.2, random_state=42)\n",
        "\n",
        "print(\"Training set:\", X_train.shape, y_train.shape)\n",
        "print(\"Test set:\", X_test.shape, y_test.shape)"
      ],
      "metadata": {
        "colab": {
          "base_uri": "https://localhost:8080/"
        },
        "id": "WpDO_WTrYKn3",
        "outputId": "bc4fef7c-366e-4b68-f77e-8f6ea9442302"
      },
      "execution_count": 61,
      "outputs": [
        {
          "output_type": "stream",
          "name": "stdout",
          "text": [
            "Training set: (5634, 53) (5634,)\n",
            "Test set: (1409, 53) (1409,)\n"
          ]
        }
      ]
    },
    {
      "cell_type": "markdown",
      "source": [
        "# Modelling Techniques"
      ],
      "metadata": {
        "id": "a6xejOvfcPbZ"
      }
    },
    {
      "cell_type": "markdown",
      "source": [
        "## 1. Logistic Regression using library"
      ],
      "metadata": {
        "id": "vYcgaZr4cbkF"
      }
    },
    {
      "cell_type": "code",
      "source": [
        "from sklearn.linear_model import LogisticRegression\n",
        "from sklearn.metrics import accuracy_score, classification_report, roc_auc_score, roc_curve"
      ],
      "metadata": {
        "id": "VciAh2Lks-mn"
      },
      "execution_count": 62,
      "outputs": []
    },
    {
      "cell_type": "code",
      "source": [
        "# Initialize the Logistic Regression model\n",
        "log_reg = LogisticRegression(max_iter=1000)\n",
        "log_reg.fit(X_train, y_train)"
      ],
      "metadata": {
        "colab": {
          "base_uri": "https://localhost:8080/",
          "height": 80
        },
        "id": "edCY6VIFxZhz",
        "outputId": "5cdc8f7e-7c74-45b5-c700-5f3e4e7f7ba4"
      },
      "execution_count": 63,
      "outputs": [
        {
          "output_type": "execute_result",
          "data": {
            "text/plain": [
              "LogisticRegression(max_iter=1000)"
            ],
            "text/html": [
              "<style>#sk-container-id-1 {\n",
              "  /* Definition of color scheme common for light and dark mode */\n",
              "  --sklearn-color-text: black;\n",
              "  --sklearn-color-line: gray;\n",
              "  /* Definition of color scheme for unfitted estimators */\n",
              "  --sklearn-color-unfitted-level-0: #fff5e6;\n",
              "  --sklearn-color-unfitted-level-1: #f6e4d2;\n",
              "  --sklearn-color-unfitted-level-2: #ffe0b3;\n",
              "  --sklearn-color-unfitted-level-3: chocolate;\n",
              "  /* Definition of color scheme for fitted estimators */\n",
              "  --sklearn-color-fitted-level-0: #f0f8ff;\n",
              "  --sklearn-color-fitted-level-1: #d4ebff;\n",
              "  --sklearn-color-fitted-level-2: #b3dbfd;\n",
              "  --sklearn-color-fitted-level-3: cornflowerblue;\n",
              "\n",
              "  /* Specific color for light theme */\n",
              "  --sklearn-color-text-on-default-background: var(--sg-text-color, var(--theme-code-foreground, var(--jp-content-font-color1, black)));\n",
              "  --sklearn-color-background: var(--sg-background-color, var(--theme-background, var(--jp-layout-color0, white)));\n",
              "  --sklearn-color-border-box: var(--sg-text-color, var(--theme-code-foreground, var(--jp-content-font-color1, black)));\n",
              "  --sklearn-color-icon: #696969;\n",
              "\n",
              "  @media (prefers-color-scheme: dark) {\n",
              "    /* Redefinition of color scheme for dark theme */\n",
              "    --sklearn-color-text-on-default-background: var(--sg-text-color, var(--theme-code-foreground, var(--jp-content-font-color1, white)));\n",
              "    --sklearn-color-background: var(--sg-background-color, var(--theme-background, var(--jp-layout-color0, #111)));\n",
              "    --sklearn-color-border-box: var(--sg-text-color, var(--theme-code-foreground, var(--jp-content-font-color1, white)));\n",
              "    --sklearn-color-icon: #878787;\n",
              "  }\n",
              "}\n",
              "\n",
              "#sk-container-id-1 {\n",
              "  color: var(--sklearn-color-text);\n",
              "}\n",
              "\n",
              "#sk-container-id-1 pre {\n",
              "  padding: 0;\n",
              "}\n",
              "\n",
              "#sk-container-id-1 input.sk-hidden--visually {\n",
              "  border: 0;\n",
              "  clip: rect(1px 1px 1px 1px);\n",
              "  clip: rect(1px, 1px, 1px, 1px);\n",
              "  height: 1px;\n",
              "  margin: -1px;\n",
              "  overflow: hidden;\n",
              "  padding: 0;\n",
              "  position: absolute;\n",
              "  width: 1px;\n",
              "}\n",
              "\n",
              "#sk-container-id-1 div.sk-dashed-wrapped {\n",
              "  border: 1px dashed var(--sklearn-color-line);\n",
              "  margin: 0 0.4em 0.5em 0.4em;\n",
              "  box-sizing: border-box;\n",
              "  padding-bottom: 0.4em;\n",
              "  background-color: var(--sklearn-color-background);\n",
              "}\n",
              "\n",
              "#sk-container-id-1 div.sk-container {\n",
              "  /* jupyter's `normalize.less` sets `[hidden] { display: none; }`\n",
              "     but bootstrap.min.css set `[hidden] { display: none !important; }`\n",
              "     so we also need the `!important` here to be able to override the\n",
              "     default hidden behavior on the sphinx rendered scikit-learn.org.\n",
              "     See: https://github.com/scikit-learn/scikit-learn/issues/21755 */\n",
              "  display: inline-block !important;\n",
              "  position: relative;\n",
              "}\n",
              "\n",
              "#sk-container-id-1 div.sk-text-repr-fallback {\n",
              "  display: none;\n",
              "}\n",
              "\n",
              "div.sk-parallel-item,\n",
              "div.sk-serial,\n",
              "div.sk-item {\n",
              "  /* draw centered vertical line to link estimators */\n",
              "  background-image: linear-gradient(var(--sklearn-color-text-on-default-background), var(--sklearn-color-text-on-default-background));\n",
              "  background-size: 2px 100%;\n",
              "  background-repeat: no-repeat;\n",
              "  background-position: center center;\n",
              "}\n",
              "\n",
              "/* Parallel-specific style estimator block */\n",
              "\n",
              "#sk-container-id-1 div.sk-parallel-item::after {\n",
              "  content: \"\";\n",
              "  width: 100%;\n",
              "  border-bottom: 2px solid var(--sklearn-color-text-on-default-background);\n",
              "  flex-grow: 1;\n",
              "}\n",
              "\n",
              "#sk-container-id-1 div.sk-parallel {\n",
              "  display: flex;\n",
              "  align-items: stretch;\n",
              "  justify-content: center;\n",
              "  background-color: var(--sklearn-color-background);\n",
              "  position: relative;\n",
              "}\n",
              "\n",
              "#sk-container-id-1 div.sk-parallel-item {\n",
              "  display: flex;\n",
              "  flex-direction: column;\n",
              "}\n",
              "\n",
              "#sk-container-id-1 div.sk-parallel-item:first-child::after {\n",
              "  align-self: flex-end;\n",
              "  width: 50%;\n",
              "}\n",
              "\n",
              "#sk-container-id-1 div.sk-parallel-item:last-child::after {\n",
              "  align-self: flex-start;\n",
              "  width: 50%;\n",
              "}\n",
              "\n",
              "#sk-container-id-1 div.sk-parallel-item:only-child::after {\n",
              "  width: 0;\n",
              "}\n",
              "\n",
              "/* Serial-specific style estimator block */\n",
              "\n",
              "#sk-container-id-1 div.sk-serial {\n",
              "  display: flex;\n",
              "  flex-direction: column;\n",
              "  align-items: center;\n",
              "  background-color: var(--sklearn-color-background);\n",
              "  padding-right: 1em;\n",
              "  padding-left: 1em;\n",
              "}\n",
              "\n",
              "\n",
              "/* Toggleable style: style used for estimator/Pipeline/ColumnTransformer box that is\n",
              "clickable and can be expanded/collapsed.\n",
              "- Pipeline and ColumnTransformer use this feature and define the default style\n",
              "- Estimators will overwrite some part of the style using the `sk-estimator` class\n",
              "*/\n",
              "\n",
              "/* Pipeline and ColumnTransformer style (default) */\n",
              "\n",
              "#sk-container-id-1 div.sk-toggleable {\n",
              "  /* Default theme specific background. It is overwritten whether we have a\n",
              "  specific estimator or a Pipeline/ColumnTransformer */\n",
              "  background-color: var(--sklearn-color-background);\n",
              "}\n",
              "\n",
              "/* Toggleable label */\n",
              "#sk-container-id-1 label.sk-toggleable__label {\n",
              "  cursor: pointer;\n",
              "  display: block;\n",
              "  width: 100%;\n",
              "  margin-bottom: 0;\n",
              "  padding: 0.5em;\n",
              "  box-sizing: border-box;\n",
              "  text-align: center;\n",
              "}\n",
              "\n",
              "#sk-container-id-1 label.sk-toggleable__label-arrow:before {\n",
              "  /* Arrow on the left of the label */\n",
              "  content: \"▸\";\n",
              "  float: left;\n",
              "  margin-right: 0.25em;\n",
              "  color: var(--sklearn-color-icon);\n",
              "}\n",
              "\n",
              "#sk-container-id-1 label.sk-toggleable__label-arrow:hover:before {\n",
              "  color: var(--sklearn-color-text);\n",
              "}\n",
              "\n",
              "/* Toggleable content - dropdown */\n",
              "\n",
              "#sk-container-id-1 div.sk-toggleable__content {\n",
              "  max-height: 0;\n",
              "  max-width: 0;\n",
              "  overflow: hidden;\n",
              "  text-align: left;\n",
              "  /* unfitted */\n",
              "  background-color: var(--sklearn-color-unfitted-level-0);\n",
              "}\n",
              "\n",
              "#sk-container-id-1 div.sk-toggleable__content.fitted {\n",
              "  /* fitted */\n",
              "  background-color: var(--sklearn-color-fitted-level-0);\n",
              "}\n",
              "\n",
              "#sk-container-id-1 div.sk-toggleable__content pre {\n",
              "  margin: 0.2em;\n",
              "  border-radius: 0.25em;\n",
              "  color: var(--sklearn-color-text);\n",
              "  /* unfitted */\n",
              "  background-color: var(--sklearn-color-unfitted-level-0);\n",
              "}\n",
              "\n",
              "#sk-container-id-1 div.sk-toggleable__content.fitted pre {\n",
              "  /* unfitted */\n",
              "  background-color: var(--sklearn-color-fitted-level-0);\n",
              "}\n",
              "\n",
              "#sk-container-id-1 input.sk-toggleable__control:checked~div.sk-toggleable__content {\n",
              "  /* Expand drop-down */\n",
              "  max-height: 200px;\n",
              "  max-width: 100%;\n",
              "  overflow: auto;\n",
              "}\n",
              "\n",
              "#sk-container-id-1 input.sk-toggleable__control:checked~label.sk-toggleable__label-arrow:before {\n",
              "  content: \"▾\";\n",
              "}\n",
              "\n",
              "/* Pipeline/ColumnTransformer-specific style */\n",
              "\n",
              "#sk-container-id-1 div.sk-label input.sk-toggleable__control:checked~label.sk-toggleable__label {\n",
              "  color: var(--sklearn-color-text);\n",
              "  background-color: var(--sklearn-color-unfitted-level-2);\n",
              "}\n",
              "\n",
              "#sk-container-id-1 div.sk-label.fitted input.sk-toggleable__control:checked~label.sk-toggleable__label {\n",
              "  background-color: var(--sklearn-color-fitted-level-2);\n",
              "}\n",
              "\n",
              "/* Estimator-specific style */\n",
              "\n",
              "/* Colorize estimator box */\n",
              "#sk-container-id-1 div.sk-estimator input.sk-toggleable__control:checked~label.sk-toggleable__label {\n",
              "  /* unfitted */\n",
              "  background-color: var(--sklearn-color-unfitted-level-2);\n",
              "}\n",
              "\n",
              "#sk-container-id-1 div.sk-estimator.fitted input.sk-toggleable__control:checked~label.sk-toggleable__label {\n",
              "  /* fitted */\n",
              "  background-color: var(--sklearn-color-fitted-level-2);\n",
              "}\n",
              "\n",
              "#sk-container-id-1 div.sk-label label.sk-toggleable__label,\n",
              "#sk-container-id-1 div.sk-label label {\n",
              "  /* The background is the default theme color */\n",
              "  color: var(--sklearn-color-text-on-default-background);\n",
              "}\n",
              "\n",
              "/* On hover, darken the color of the background */\n",
              "#sk-container-id-1 div.sk-label:hover label.sk-toggleable__label {\n",
              "  color: var(--sklearn-color-text);\n",
              "  background-color: var(--sklearn-color-unfitted-level-2);\n",
              "}\n",
              "\n",
              "/* Label box, darken color on hover, fitted */\n",
              "#sk-container-id-1 div.sk-label.fitted:hover label.sk-toggleable__label.fitted {\n",
              "  color: var(--sklearn-color-text);\n",
              "  background-color: var(--sklearn-color-fitted-level-2);\n",
              "}\n",
              "\n",
              "/* Estimator label */\n",
              "\n",
              "#sk-container-id-1 div.sk-label label {\n",
              "  font-family: monospace;\n",
              "  font-weight: bold;\n",
              "  display: inline-block;\n",
              "  line-height: 1.2em;\n",
              "}\n",
              "\n",
              "#sk-container-id-1 div.sk-label-container {\n",
              "  text-align: center;\n",
              "}\n",
              "\n",
              "/* Estimator-specific */\n",
              "#sk-container-id-1 div.sk-estimator {\n",
              "  font-family: monospace;\n",
              "  border: 1px dotted var(--sklearn-color-border-box);\n",
              "  border-radius: 0.25em;\n",
              "  box-sizing: border-box;\n",
              "  margin-bottom: 0.5em;\n",
              "  /* unfitted */\n",
              "  background-color: var(--sklearn-color-unfitted-level-0);\n",
              "}\n",
              "\n",
              "#sk-container-id-1 div.sk-estimator.fitted {\n",
              "  /* fitted */\n",
              "  background-color: var(--sklearn-color-fitted-level-0);\n",
              "}\n",
              "\n",
              "/* on hover */\n",
              "#sk-container-id-1 div.sk-estimator:hover {\n",
              "  /* unfitted */\n",
              "  background-color: var(--sklearn-color-unfitted-level-2);\n",
              "}\n",
              "\n",
              "#sk-container-id-1 div.sk-estimator.fitted:hover {\n",
              "  /* fitted */\n",
              "  background-color: var(--sklearn-color-fitted-level-2);\n",
              "}\n",
              "\n",
              "/* Specification for estimator info (e.g. \"i\" and \"?\") */\n",
              "\n",
              "/* Common style for \"i\" and \"?\" */\n",
              "\n",
              ".sk-estimator-doc-link,\n",
              "a:link.sk-estimator-doc-link,\n",
              "a:visited.sk-estimator-doc-link {\n",
              "  float: right;\n",
              "  font-size: smaller;\n",
              "  line-height: 1em;\n",
              "  font-family: monospace;\n",
              "  background-color: var(--sklearn-color-background);\n",
              "  border-radius: 1em;\n",
              "  height: 1em;\n",
              "  width: 1em;\n",
              "  text-decoration: none !important;\n",
              "  margin-left: 1ex;\n",
              "  /* unfitted */\n",
              "  border: var(--sklearn-color-unfitted-level-1) 1pt solid;\n",
              "  color: var(--sklearn-color-unfitted-level-1);\n",
              "}\n",
              "\n",
              ".sk-estimator-doc-link.fitted,\n",
              "a:link.sk-estimator-doc-link.fitted,\n",
              "a:visited.sk-estimator-doc-link.fitted {\n",
              "  /* fitted */\n",
              "  border: var(--sklearn-color-fitted-level-1) 1pt solid;\n",
              "  color: var(--sklearn-color-fitted-level-1);\n",
              "}\n",
              "\n",
              "/* On hover */\n",
              "div.sk-estimator:hover .sk-estimator-doc-link:hover,\n",
              ".sk-estimator-doc-link:hover,\n",
              "div.sk-label-container:hover .sk-estimator-doc-link:hover,\n",
              ".sk-estimator-doc-link:hover {\n",
              "  /* unfitted */\n",
              "  background-color: var(--sklearn-color-unfitted-level-3);\n",
              "  color: var(--sklearn-color-background);\n",
              "  text-decoration: none;\n",
              "}\n",
              "\n",
              "div.sk-estimator.fitted:hover .sk-estimator-doc-link.fitted:hover,\n",
              ".sk-estimator-doc-link.fitted:hover,\n",
              "div.sk-label-container:hover .sk-estimator-doc-link.fitted:hover,\n",
              ".sk-estimator-doc-link.fitted:hover {\n",
              "  /* fitted */\n",
              "  background-color: var(--sklearn-color-fitted-level-3);\n",
              "  color: var(--sklearn-color-background);\n",
              "  text-decoration: none;\n",
              "}\n",
              "\n",
              "/* Span, style for the box shown on hovering the info icon */\n",
              ".sk-estimator-doc-link span {\n",
              "  display: none;\n",
              "  z-index: 9999;\n",
              "  position: relative;\n",
              "  font-weight: normal;\n",
              "  right: .2ex;\n",
              "  padding: .5ex;\n",
              "  margin: .5ex;\n",
              "  width: min-content;\n",
              "  min-width: 20ex;\n",
              "  max-width: 50ex;\n",
              "  color: var(--sklearn-color-text);\n",
              "  box-shadow: 2pt 2pt 4pt #999;\n",
              "  /* unfitted */\n",
              "  background: var(--sklearn-color-unfitted-level-0);\n",
              "  border: .5pt solid var(--sklearn-color-unfitted-level-3);\n",
              "}\n",
              "\n",
              ".sk-estimator-doc-link.fitted span {\n",
              "  /* fitted */\n",
              "  background: var(--sklearn-color-fitted-level-0);\n",
              "  border: var(--sklearn-color-fitted-level-3);\n",
              "}\n",
              "\n",
              ".sk-estimator-doc-link:hover span {\n",
              "  display: block;\n",
              "}\n",
              "\n",
              "/* \"?\"-specific style due to the `<a>` HTML tag */\n",
              "\n",
              "#sk-container-id-1 a.estimator_doc_link {\n",
              "  float: right;\n",
              "  font-size: 1rem;\n",
              "  line-height: 1em;\n",
              "  font-family: monospace;\n",
              "  background-color: var(--sklearn-color-background);\n",
              "  border-radius: 1rem;\n",
              "  height: 1rem;\n",
              "  width: 1rem;\n",
              "  text-decoration: none;\n",
              "  /* unfitted */\n",
              "  color: var(--sklearn-color-unfitted-level-1);\n",
              "  border: var(--sklearn-color-unfitted-level-1) 1pt solid;\n",
              "}\n",
              "\n",
              "#sk-container-id-1 a.estimator_doc_link.fitted {\n",
              "  /* fitted */\n",
              "  border: var(--sklearn-color-fitted-level-1) 1pt solid;\n",
              "  color: var(--sklearn-color-fitted-level-1);\n",
              "}\n",
              "\n",
              "/* On hover */\n",
              "#sk-container-id-1 a.estimator_doc_link:hover {\n",
              "  /* unfitted */\n",
              "  background-color: var(--sklearn-color-unfitted-level-3);\n",
              "  color: var(--sklearn-color-background);\n",
              "  text-decoration: none;\n",
              "}\n",
              "\n",
              "#sk-container-id-1 a.estimator_doc_link.fitted:hover {\n",
              "  /* fitted */\n",
              "  background-color: var(--sklearn-color-fitted-level-3);\n",
              "}\n",
              "</style><div id=\"sk-container-id-1\" class=\"sk-top-container\"><div class=\"sk-text-repr-fallback\"><pre>LogisticRegression(max_iter=1000)</pre><b>In a Jupyter environment, please rerun this cell to show the HTML representation or trust the notebook. <br />On GitHub, the HTML representation is unable to render, please try loading this page with nbviewer.org.</b></div><div class=\"sk-container\" hidden><div class=\"sk-item\"><div class=\"sk-estimator fitted sk-toggleable\"><input class=\"sk-toggleable__control sk-hidden--visually\" id=\"sk-estimator-id-1\" type=\"checkbox\" checked><label for=\"sk-estimator-id-1\" class=\"sk-toggleable__label fitted sk-toggleable__label-arrow fitted\">&nbsp;&nbsp;LogisticRegression<a class=\"sk-estimator-doc-link fitted\" rel=\"noreferrer\" target=\"_blank\" href=\"https://scikit-learn.org/1.5/modules/generated/sklearn.linear_model.LogisticRegression.html\">?<span>Documentation for LogisticRegression</span></a><span class=\"sk-estimator-doc-link fitted\">i<span>Fitted</span></span></label><div class=\"sk-toggleable__content fitted\"><pre>LogisticRegression(max_iter=1000)</pre></div> </div></div></div></div>"
            ]
          },
          "metadata": {},
          "execution_count": 63
        }
      ]
    },
    {
      "cell_type": "code",
      "source": [
        "# Predictions\n",
        "y_pred = log_reg.predict(X_test)\n",
        "y_pred_proba = log_reg.predict_proba(X_test)[:,1]\n",
        "\n",
        "# Accuracy\n",
        "print(\"Accuracy:\", accuracy_score(y_test, y_pred))\n",
        "\n",
        "# Classification Report\n",
        "print(classification_report(y_test, y_pred))\n",
        "\n",
        "# ROC-AUC Score\n",
        "print(\"ROC-AUC Score:\", roc_auc_score(y_test, y_pred_proba))\n",
        "\n",
        "# ROC Curve\n",
        "fpr, tpr, _ = roc_curve(y_test, y_pred_proba)\n",
        "plt.plot(fpr, tpr, label='Logistic Regression')\n",
        "plt.xlabel('False Positive Rate')\n",
        "plt.ylabel('True Positive Rate')\n",
        "plt.title('ROC Curve')\n",
        "plt.legend()\n",
        "plt.show()"
      ],
      "metadata": {
        "colab": {
          "base_uri": "https://localhost:8080/",
          "height": 673
        },
        "id": "h7DKAgIT9UP2",
        "outputId": "459d1a7e-c2d4-4476-ec5c-dd4409bcb7b0"
      },
      "execution_count": 64,
      "outputs": [
        {
          "output_type": "stream",
          "name": "stdout",
          "text": [
            "Accuracy: 0.9559971611071683\n",
            "              precision    recall  f1-score   support\n",
            "\n",
            "           0       0.96      0.98      0.97      1009\n",
            "           1       0.94      0.91      0.92       400\n",
            "\n",
            "    accuracy                           0.96      1409\n",
            "   macro avg       0.95      0.94      0.95      1409\n",
            "weighted avg       0.96      0.96      0.96      1409\n",
            "\n",
            "ROC-AUC Score: 0.9883696729435085\n"
          ]
        },
        {
          "output_type": "display_data",
          "data": {
            "text/plain": [
              "<Figure size 640x480 with 1 Axes>"
            ],
            "image/png": "[encoded data removed]"
          },
          "metadata": {}
        }
      ]
    },
    {
      "cell_type": "code",
      "source": [
        "feature_importance = pd.DataFrame(log_reg.coef_[0], index=X_train.columns, columns=['Coefficient']).sort_values('Coefficient', ascending=False)\n",
        "\n",
        "print(feature_importance)"
      ],
      "metadata": {
        "colab": {
          "base_uri": "https://localhost:8080/"
        },
        "id": "gqLLe_Ldkyws",
        "outputId": "efd67fe0-80c4-454d-a8a2-29d3cea2c5f3"
      },
      "execution_count": 65,
      "outputs": [
        {
          "output_type": "stream",
          "name": "stdout",
          "text": [
            "                                   Coefficient\n",
            "Monthly Charge                        1.245267\n",
            "Referred a Friend                     0.873089\n",
            "Offer_Offer A                         0.814623\n",
            "Contract_Month-to-Month               0.723300\n",
            "Offer_Offer E                         0.426536\n",
            "Number of Dependents                  0.409399\n",
            "Zip Code                              0.327933\n",
            "Senior Citizen                        0.310174\n",
            "Internet Type_Cable                   0.308715\n",
            "City                                  0.214409\n",
            "Streaming Music                       0.207277\n",
            "ID                                    0.192378\n",
            "Total Charges                         0.185956\n",
            "Total Revenue                         0.181230\n",
            "Multiple Lines                        0.128214\n",
            "Total Long Distance Charges           0.115903\n",
            "Payment Method_Mailed Check           0.100738\n",
            "Payment Method_Bank Withdrawal        0.099921\n",
            "Paperless Billing                     0.097256\n",
            "Offer_Offer B                         0.077574\n",
            "Avg Monthly GB Download               0.058760\n",
            "Population                            0.056780\n",
            "Married                               0.053044\n",
            "Contract_One Year                     0.023387\n",
            "Count                                 0.000000\n",
            "Age                                  -0.013359\n",
            "CLTV                                 -0.016850\n",
            "Internet Type_DSL                    -0.023241\n",
            "Total Extra Data Charges             -0.064082\n",
            "Under 30                             -0.084335\n",
            "Device Protection Plan               -0.106891\n",
            "Streaming TV                         -0.116702\n",
            "Gender                               -0.121644\n",
            "Internet Service                     -0.149140\n",
            "Total Refunds                        -0.167035\n",
            "Unlimited Data                       -0.168038\n",
            "Streaming Movies                     -0.178306\n",
            "Avg Monthly Long Distance Charges    -0.199771\n",
            "Online Backup                        -0.233985\n",
            "Premium Tech Support                 -0.244101\n",
            "Offer_Offer C                        -0.283030\n",
            "Longitude                            -0.298429\n",
            "Phone Service                        -0.333193\n",
            "Latitude                             -0.351421\n",
            "Offer_Offer D                        -0.360611\n",
            "Payment Method_Credit Card           -0.540607\n",
            "Internet Type_Fiber Optic            -0.613208\n",
            "Tenure in Months                     -1.082201\n",
            "Contract_Two Year                    -1.086635\n",
            "Dependents                           -1.087229\n",
            "Online Security                      -1.370037\n",
            "Number of Referrals                  -2.088021\n",
            "Satisfaction Score                   -7.229112\n"
          ]
        }
      ]
    },
    {
      "cell_type": "markdown",
      "source": [
        "## 2. Logistic Regression from scratch"
      ],
      "metadata": {
        "id": "dbRQqEUV_ICy"
      }
    },
    {
      "cell_type": "markdown",
      "source": [
        "Implementing Logistic Regression from scratch involves the following steps:\n",
        "\n",
        "1. **Sigmoid Function**: We have to define the sigmoid function, which maps any real-valued number into the range of [0, 1]. This is useful for the probability estimate in logistic regression.\n",
        "\n",
        "  - $\\sigma(z) = \\frac{1}{1 + e^{-z}}$, where $z = w^Tx + b$, with $w$ being the weight vector, $x$ the input feature vector, and $b$ the bias.\n",
        "\n",
        "2. **Cost Function**: We have to implement the cost function known as binary cross-entropy or log loss. This measures the performance of a classification model where the prediction is a probability value between 0 and 1.\n",
        "\n",
        "  - $L_{CE}(ŷ,y) = -\\frac{1}{m} \\sum_{i=1}^{m} [y \\log(\\hat{y}) + (1 - y) \\log(1 - \\hat{y})]$, where $m$ is the number of training examples, $y$ is the actual label, and $\\hat{y}$ is the predicted probability.\n",
        "\n",
        "\n",
        "3. **Gradient Descent**: We also have to develop the gradient descent algorithm to minimize the cost function. This involves calculating the gradient of the cost function and updating the model's parameters iteratively.\n",
        "  - The parameters $w$ and $b$ are updated as\n",
        "  \n",
        "    $w \\leftarrow w - \\alpha \\frac{\\partial L_{CE}(ŷ,y)}{\\partial w}$ and\n",
        "  \n",
        "    $b \\leftarrow b - \\alpha \\frac{\\partial L_{CE}(ŷ,y)}{\\partial b}$, where $\\alpha$ is the learning rate.\n",
        "\n",
        "  - The gradients are calculated as follows:\n",
        "\n",
        "    $\\frac{\\partial L_{CE}(ŷ,y)}{\\partial w} = \\frac{1}{m} (ŷ-y) x_i^T$\n",
        "\n",
        "    $\\frac{\\partial L_{CE}(ŷ,y)}{\\partial b} = \\frac{1}{m} (ŷ-y)$\n",
        "\n",
        "   \n",
        "4. **Model Training**: Now, next step would be to use the gradient descent within a training function to fit the model to our data. We will also need to determine the number of iterations and the learning rate, which are usually the parameters given to us.\n",
        "\n",
        "5. **Prediction Function**: Once the model training is complete, we should have a function to predict the labels for the dataset. This involves applying the sigmoid function to your data and then converting the probabilities to class labels based on a threshold.\n",
        "  - Eg: if $\\hat{y} = σ(z) \\geq 0.5$, predict class 1; otherwise, predict class 0\n",
        "\n",
        "6. **Evaluation**: Now finally, after making predictions, we evaluate your model using metrics like accuracy, precision, recall, and F1-score.\n",
        "\n",
        "Resources:\n",
        "https://developer.ibm.com/articles/implementing-logistic-regression-from-scratch-in-python/"
      ],
      "metadata": {
        "id": "u3WmIHLX_vqt"
      }
    },
    {
      "cell_type": "code",
      "source": [
        "class MyLogisticRegression:\n",
        "    def __init__(self, learning_rate=0.1, iterations=100):\n",
        "        self.epochs = iterations\n",
        "        self.learning_rate = learning_rate\n",
        "        self.weights = None\n",
        "        self.bias = None\n",
        "\n",
        "\n",
        "    def sigmoid(self, z):\n",
        "        def sigmoid_function(x):\n",
        "            if x >= 0:\n",
        "                return 1 / (1 + np.exp(-x))\n",
        "            else:\n",
        "                return np.exp(x) / (1 + np.exp(x))\n",
        "\n",
        "        # Apply the function to each element of z\n",
        "        vectorized_sigmoid = np.vectorize(sigmoid_function)\n",
        "        return vectorized_sigmoid(z)\n",
        "\n",
        "    def loss_function(self, X, y):\n",
        "        total_cost = 0\n",
        "\n",
        "        # Get predictions\n",
        "        z = np.dot(X, self.weights) + self.bias\n",
        "        predictions = self.sigmoid(z)\n",
        "\n",
        "        # Compute the loss\n",
        "        total_cost = -np.mean(y * np.log(predictions + 1e-9) + (1 - y) * np.log(1 - predictions + 1e-9))\n",
        "\n",
        "        return total_cost\n",
        "\n",
        "\n",
        "    def fit(self, X, y):\n",
        "        # Initialize parameters\n",
        "        self.weights = np.zeros(X.shape[1])\n",
        "        self.bias = 0\n",
        "\n",
        "        # Learn the weights and bias using gradient descent\n",
        "        for i in range(self.epochs):\n",
        "            # Get predictions\n",
        "            z = np.dot(X, self.weights) + self.bias\n",
        "            predictions = self.sigmoid(z)\n",
        "\n",
        "            # Calculate the gradients\n",
        "            dw = np.array([np.mean(grad) for grad in np.dot(X.T, (predictions - y))])\n",
        "            db = np.mean(predictions - y)\n",
        "\n",
        "            # Update the weights and bias\n",
        "            self.weights -= self.learning_rate * dw\n",
        "            self.bias -= self.learning_rate * db\n",
        "\n",
        "\n",
        "    def predict_proba(self, X):\n",
        "        model = np.dot(X, self.weights) + self.bias\n",
        "        predictions = self.sigmoid(model)\n",
        "        return predictions\n",
        "\n",
        "    def predict(self, X, threshold=0.5):\n",
        "        probabilities = self.predict_proba(X)\n",
        "        return [1 if i > threshold else 0 for i in probabilities]\n"
      ],
      "metadata": {
        "id": "TyWXrLoCIyod"
      },
      "execution_count": 66,
      "outputs": []
    },
    {
      "cell_type": "code",
      "source": [
        "my_log_model = MyLogisticRegression(iterations=1000)\n",
        "my_log_model.fit(X_train, y_train)"
      ],
      "metadata": {
        "id": "zPmyyLn1KH4I"
      },
      "execution_count": 67,
      "outputs": []
    },
    {
      "cell_type": "code",
      "source": [
        "# Predictions\n",
        "y_pred = my_log_model.predict(X_test)\n",
        "y_pred_proba = my_log_model.predict_proba(X_test)\n",
        "\n",
        "# Accuracy\n",
        "print(\"Accuracy:\", accuracy_score(y_test, y_pred))\n",
        "\n",
        "# Classification Report\n",
        "print(classification_report(y_test, y_pred))\n",
        "\n",
        "# ROC-AUC Score\n",
        "print(\"ROC-AUC Score:\", roc_auc_score(y_test, y_pred_proba))\n",
        "\n",
        "# ROC Curve\n",
        "fpr, tpr, _ = roc_curve(y_test, y_pred_proba)\n",
        "plt.plot(fpr, tpr, label='Logistic Regression')\n",
        "plt.xlabel('False Positive Rate')\n",
        "plt.ylabel('True Positive Rate')\n",
        "plt.title('ROC Curve')\n",
        "plt.legend()\n",
        "plt.show()"
      ],
      "metadata": {
        "colab": {
          "base_uri": "https://localhost:8080/",
          "height": 673
        },
        "id": "-QwMtZbWMGMW",
        "outputId": "ad0087fe-f642-4fcb-ee35-10cdf1aa0b9a"
      },
      "execution_count": 68,
      "outputs": [
        {
          "output_type": "stream",
          "name": "stdout",
          "text": [
            "Accuracy: 0.9418026969481902\n",
            "              precision    recall  f1-score   support\n",
            "\n",
            "           0       0.94      0.98      0.96      1009\n",
            "           1       0.94      0.85      0.89       400\n",
            "\n",
            "    accuracy                           0.94      1409\n",
            "   macro avg       0.94      0.91      0.93      1409\n",
            "weighted avg       0.94      0.94      0.94      1409\n",
            "\n",
            "ROC-AUC Score: 0.9838999008919722\n"
          ]
        },
        {
          "output_type": "display_data",
          "data": {
            "text/plain": [
              "<Figure size 640x480 with 1 Axes>"
            ],
            "image/png": "[encoded data removed]"
          },
          "metadata": {}
        }
      ]
    },
    {
      "cell_type": "markdown",
      "source": [
        "## 3. SVM using library"
      ],
      "metadata": {
        "id": "O9b9lrEkef3_"
      }
    },
    {
      "cell_type": "code",
      "source": [
        "from sklearn.svm import SVC\n",
        "from sklearn.metrics import accuracy_score, confusion_matrix, classification_report\n",
        "from sklearn.model_selection import cross_val_score, GridSearchCV"
      ],
      "metadata": {
        "id": "BwOaqngp5hdT"
      },
      "execution_count": 69,
      "outputs": []
    },
    {
      "cell_type": "code",
      "source": [
        "svm_model = SVC(probability=True)\n",
        "svm_model.fit(X_train, y_train)"
      ],
      "metadata": {
        "colab": {
          "base_uri": "https://localhost:8080/",
          "height": 80
        },
        "id": "hhttJsH05inc",
        "outputId": "477d8ba5-8c1b-4737-a690-8a859372b22a"
      },
      "execution_count": 70,
      "outputs": [
        {
          "output_type": "execute_result",
          "data": {
            "text/plain": [
              "SVC(probability=True)"
            ],
            "text/html": [
              "<style>#sk-container-id-2 {\n",
              "  /* Definition of color scheme common for light and dark mode */\n",
              "  --sklearn-color-text: black;\n",
              "  --sklearn-color-line: gray;\n",
              "  /* Definition of color scheme for unfitted estimators */\n",
              "  --sklearn-color-unfitted-level-0: #fff5e6;\n",
              "  --sklearn-color-unfitted-level-1: #f6e4d2;\n",
              "  --sklearn-color-unfitted-level-2: #ffe0b3;\n",
              "  --sklearn-color-unfitted-level-3: chocolate;\n",
              "  /* Definition of color scheme for fitted estimators */\n",
              "  --sklearn-color-fitted-level-0: #f0f8ff;\n",
              "  --sklearn-color-fitted-level-1: #d4ebff;\n",
              "  --sklearn-color-fitted-level-2: #b3dbfd;\n",
              "  --sklearn-color-fitted-level-3: cornflowerblue;\n",
              "\n",
              "  /* Specific color for light theme */\n",
              "  --sklearn-color-text-on-default-background: var(--sg-text-color, var(--theme-code-foreground, var(--jp-content-font-color1, black)));\n",
              "  --sklearn-color-background: var(--sg-background-color, var(--theme-background, var(--jp-layout-color0, white)));\n",
              "  --sklearn-color-border-box: var(--sg-text-color, var(--theme-code-foreground, var(--jp-content-font-color1, black)));\n",
              "  --sklearn-color-icon: #696969;\n",
              "\n",
              "  @media (prefers-color-scheme: dark) {\n",
              "    /* Redefinition of color scheme for dark theme */\n",
              "    --sklearn-color-text-on-default-background: var(--sg-text-color, var(--theme-code-foreground, var(--jp-content-font-color1, white)));\n",
              "    --sklearn-color-background: var(--sg-background-color, var(--theme-background, var(--jp-layout-color0, #111)));\n",
              "    --sklearn-color-border-box: var(--sg-text-color, var(--theme-code-foreground, var(--jp-content-font-color1, white)));\n",
              "    --sklearn-color-icon: #878787;\n",
              "  }\n",
              "}\n",
              "\n",
              "#sk-container-id-2 {\n",
              "  color: var(--sklearn-color-text);\n",
              "}\n",
              "\n",
              "#sk-container-id-2 pre {\n",
              "  padding: 0;\n",
              "}\n",
              "\n",
              "#sk-container-id-2 input.sk-hidden--visually {\n",
              "  border: 0;\n",
              "  clip: rect(1px 1px 1px 1px);\n",
              "  clip: rect(1px, 1px, 1px, 1px);\n",
              "  height: 1px;\n",
              "  margin: -1px;\n",
              "  overflow: hidden;\n",
              "  padding: 0;\n",
              "  position: absolute;\n",
              "  width: 1px;\n",
              "}\n",
              "\n",
              "#sk-container-id-2 div.sk-dashed-wrapped {\n",
              "  border: 1px dashed var(--sklearn-color-line);\n",
              "  margin: 0 0.4em 0.5em 0.4em;\n",
              "  box-sizing: border-box;\n",
              "  padding-bottom: 0.4em;\n",
              "  background-color: var(--sklearn-color-background);\n",
              "}\n",
              "\n",
              "#sk-container-id-2 div.sk-container {\n",
              "  /* jupyter's `normalize.less` sets `[hidden] { display: none; }`\n",
              "     but bootstrap.min.css set `[hidden] { display: none !important; }`\n",
              "     so we also need the `!important` here to be able to override the\n",
              "     default hidden behavior on the sphinx rendered scikit-learn.org.\n",
              "     See: https://github.com/scikit-learn/scikit-learn/issues/21755 */\n",
              "  display: inline-block !important;\n",
              "  position: relative;\n",
              "}\n",
              "\n",
              "#sk-container-id-2 div.sk-text-repr-fallback {\n",
              "  display: none;\n",
              "}\n",
              "\n",
              "div.sk-parallel-item,\n",
              "div.sk-serial,\n",
              "div.sk-item {\n",
              "  /* draw centered vertical line to link estimators */\n",
              "  background-image: linear-gradient(var(--sklearn-color-text-on-default-background), var(--sklearn-color-text-on-default-background));\n",
              "  background-size: 2px 100%;\n",
              "  background-repeat: no-repeat;\n",
              "  background-position: center center;\n",
              "}\n",
              "\n",
              "/* Parallel-specific style estimator block */\n",
              "\n",
              "#sk-container-id-2 div.sk-parallel-item::after {\n",
              "  content: \"\";\n",
              "  width: 100%;\n",
              "  border-bottom: 2px solid var(--sklearn-color-text-on-default-background);\n",
              "  flex-grow: 1;\n",
              "}\n",
              "\n",
              "#sk-container-id-2 div.sk-parallel {\n",
              "  display: flex;\n",
              "  align-items: stretch;\n",
              "  justify-content: center;\n",
              "  background-color: var(--sklearn-color-background);\n",
              "  position: relative;\n",
              "}\n",
              "\n",
              "#sk-container-id-2 div.sk-parallel-item {\n",
              "  display: flex;\n",
              "  flex-direction: column;\n",
              "}\n",
              "\n",
              "#sk-container-id-2 div.sk-parallel-item:first-child::after {\n",
              "  align-self: flex-end;\n",
              "  width: 50%;\n",
              "}\n",
              "\n",
              "#sk-container-id-2 div.sk-parallel-item:last-child::after {\n",
              "  align-self: flex-start;\n",
              "  width: 50%;\n",
              "}\n",
              "\n",
              "#sk-container-id-2 div.sk-parallel-item:only-child::after {\n",
              "  width: 0;\n",
              "}\n",
              "\n",
              "/* Serial-specific style estimator block */\n",
              "\n",
              "#sk-container-id-2 div.sk-serial {\n",
              "  display: flex;\n",
              "  flex-direction: column;\n",
              "  align-items: center;\n",
              "  background-color: var(--sklearn-color-background);\n",
              "  padding-right: 1em;\n",
              "  padding-left: 1em;\n",
              "}\n",
              "\n",
              "\n",
              "/* Toggleable style: style used for estimator/Pipeline/ColumnTransformer box that is\n",
              "clickable and can be expanded/collapsed.\n",
              "- Pipeline and ColumnTransformer use this feature and define the default style\n",
              "- Estimators will overwrite some part of the style using the `sk-estimator` class\n",
              "*/\n",
              "\n",
              "/* Pipeline and ColumnTransformer style (default) */\n",
              "\n",
              "#sk-container-id-2 div.sk-toggleable {\n",
              "  /* Default theme specific background. It is overwritten whether we have a\n",
              "  specific estimator or a Pipeline/ColumnTransformer */\n",
              "  background-color: var(--sklearn-color-background);\n",
              "}\n",
              "\n",
              "/* Toggleable label */\n",
              "#sk-container-id-2 label.sk-toggleable__label {\n",
              "  cursor: pointer;\n",
              "  display: block;\n",
              "  width: 100%;\n",
              "  margin-bottom: 0;\n",
              "  padding: 0.5em;\n",
              "  box-sizing: border-box;\n",
              "  text-align: center;\n",
              "}\n",
              "\n",
              "#sk-container-id-2 label.sk-toggleable__label-arrow:before {\n",
              "  /* Arrow on the left of the label */\n",
              "  content: \"▸\";\n",
              "  float: left;\n",
              "  margin-right: 0.25em;\n",
              "  color: var(--sklearn-color-icon);\n",
              "}\n",
              "\n",
              "#sk-container-id-2 label.sk-toggleable__label-arrow:hover:before {\n",
              "  color: var(--sklearn-color-text);\n",
              "}\n",
              "\n",
              "/* Toggleable content - dropdown */\n",
              "\n",
              "#sk-container-id-2 div.sk-toggleable__content {\n",
              "  max-height: 0;\n",
              "  max-width: 0;\n",
              "  overflow: hidden;\n",
              "  text-align: left;\n",
              "  /* unfitted */\n",
              "  background-color: var(--sklearn-color-unfitted-level-0);\n",
              "}\n",
              "\n",
              "#sk-container-id-2 div.sk-toggleable__content.fitted {\n",
              "  /* fitted */\n",
              "  background-color: var(--sklearn-color-fitted-level-0);\n",
              "}\n",
              "\n",
              "#sk-container-id-2 div.sk-toggleable__content pre {\n",
              "  margin: 0.2em;\n",
              "  border-radius: 0.25em;\n",
              "  color: var(--sklearn-color-text);\n",
              "  /* unfitted */\n",
              "  background-color: var(--sklearn-color-unfitted-level-0);\n",
              "}\n",
              "\n",
              "#sk-container-id-2 div.sk-toggleable__content.fitted pre {\n",
              "  /* unfitted */\n",
              "  background-color: var(--sklearn-color-fitted-level-0);\n",
              "}\n",
              "\n",
              "#sk-container-id-2 input.sk-toggleable__control:checked~div.sk-toggleable__content {\n",
              "  /* Expand drop-down */\n",
              "  max-height: 200px;\n",
              "  max-width: 100%;\n",
              "  overflow: auto;\n",
              "}\n",
              "\n",
              "#sk-container-id-2 input.sk-toggleable__control:checked~label.sk-toggleable__label-arrow:before {\n",
              "  content: \"▾\";\n",
              "}\n",
              "\n",
              "/* Pipeline/ColumnTransformer-specific style */\n",
              "\n",
              "#sk-container-id-2 div.sk-label input.sk-toggleable__control:checked~label.sk-toggleable__label {\n",
              "  color: var(--sklearn-color-text);\n",
              "  background-color: var(--sklearn-color-unfitted-level-2);\n",
              "}\n",
              "\n",
              "#sk-container-id-2 div.sk-label.fitted input.sk-toggleable__control:checked~label.sk-toggleable__label {\n",
              "  background-color: var(--sklearn-color-fitted-level-2);\n",
              "}\n",
              "\n",
              "/* Estimator-specific style */\n",
              "\n",
              "/* Colorize estimator box */\n",
              "#sk-container-id-2 div.sk-estimator input.sk-toggleable__control:checked~label.sk-toggleable__label {\n",
              "  /* unfitted */\n",
              "  background-color: var(--sklearn-color-unfitted-level-2);\n",
              "}\n",
              "\n",
              "#sk-container-id-2 div.sk-estimator.fitted input.sk-toggleable__control:checked~label.sk-toggleable__label {\n",
              "  /* fitted */\n",
              "  background-color: var(--sklearn-color-fitted-level-2);\n",
              "}\n",
              "\n",
              "#sk-container-id-2 div.sk-label label.sk-toggleable__label,\n",
              "#sk-container-id-2 div.sk-label label {\n",
              "  /* The background is the default theme color */\n",
              "  color: var(--sklearn-color-text-on-default-background);\n",
              "}\n",
              "\n",
              "/* On hover, darken the color of the background */\n",
              "#sk-container-id-2 div.sk-label:hover label.sk-toggleable__label {\n",
              "  color: var(--sklearn-color-text);\n",
              "  background-color: var(--sklearn-color-unfitted-level-2);\n",
              "}\n",
              "\n",
              "/* Label box, darken color on hover, fitted */\n",
              "#sk-container-id-2 div.sk-label.fitted:hover label.sk-toggleable__label.fitted {\n",
              "  color: var(--sklearn-color-text);\n",
              "  background-color: var(--sklearn-color-fitted-level-2);\n",
              "}\n",
              "\n",
              "/* Estimator label */\n",
              "\n",
              "#sk-container-id-2 div.sk-label label {\n",
              "  font-family: monospace;\n",
              "  font-weight: bold;\n",
              "  display: inline-block;\n",
              "  line-height: 1.2em;\n",
              "}\n",
              "\n",
              "#sk-container-id-2 div.sk-label-container {\n",
              "  text-align: center;\n",
              "}\n",
              "\n",
              "/* Estimator-specific */\n",
              "#sk-container-id-2 div.sk-estimator {\n",
              "  font-family: monospace;\n",
              "  border: 1px dotted var(--sklearn-color-border-box);\n",
              "  border-radius: 0.25em;\n",
              "  box-sizing: border-box;\n",
              "  margin-bottom: 0.5em;\n",
              "  /* unfitted */\n",
              "  background-color: var(--sklearn-color-unfitted-level-0);\n",
              "}\n",
              "\n",
              "#sk-container-id-2 div.sk-estimator.fitted {\n",
              "  /* fitted */\n",
              "  background-color: var(--sklearn-color-fitted-level-0);\n",
              "}\n",
              "\n",
              "/* on hover */\n",
              "#sk-container-id-2 div.sk-estimator:hover {\n",
              "  /* unfitted */\n",
              "  background-color: var(--sklearn-color-unfitted-level-2);\n",
              "}\n",
              "\n",
              "#sk-container-id-2 div.sk-estimator.fitted:hover {\n",
              "  /* fitted */\n",
              "  background-color: var(--sklearn-color-fitted-level-2);\n",
              "}\n",
              "\n",
              "/* Specification for estimator info (e.g. \"i\" and \"?\") */\n",
              "\n",
              "/* Common style for \"i\" and \"?\" */\n",
              "\n",
              ".sk-estimator-doc-link,\n",
              "a:link.sk-estimator-doc-link,\n",
              "a:visited.sk-estimator-doc-link {\n",
              "  float: right;\n",
              "  font-size: smaller;\n",
              "  line-height: 1em;\n",
              "  font-family: monospace;\n",
              "  background-color: var(--sklearn-color-background);\n",
              "  border-radius: 1em;\n",
              "  height: 1em;\n",
              "  width: 1em;\n",
              "  text-decoration: none !important;\n",
              "  margin-left: 1ex;\n",
              "  /* unfitted */\n",
              "  border: var(--sklearn-color-unfitted-level-1) 1pt solid;\n",
              "  color: var(--sklearn-color-unfitted-level-1);\n",
              "}\n",
              "\n",
              ".sk-estimator-doc-link.fitted,\n",
              "a:link.sk-estimator-doc-link.fitted,\n",
              "a:visited.sk-estimator-doc-link.fitted {\n",
              "  /* fitted */\n",
              "  border: var(--sklearn-color-fitted-level-1) 1pt solid;\n",
              "  color: var(--sklearn-color-fitted-level-1);\n",
              "}\n",
              "\n",
              "/* On hover */\n",
              "div.sk-estimator:hover .sk-estimator-doc-link:hover,\n",
              ".sk-estimator-doc-link:hover,\n",
              "div.sk-label-container:hover .sk-estimator-doc-link:hover,\n",
              ".sk-estimator-doc-link:hover {\n",
              "  /* unfitted */\n",
              "  background-color: var(--sklearn-color-unfitted-level-3);\n",
              "  color: var(--sklearn-color-background);\n",
              "  text-decoration: none;\n",
              "}\n",
              "\n",
              "div.sk-estimator.fitted:hover .sk-estimator-doc-link.fitted:hover,\n",
              ".sk-estimator-doc-link.fitted:hover,\n",
              "div.sk-label-container:hover .sk-estimator-doc-link.fitted:hover,\n",
              ".sk-estimator-doc-link.fitted:hover {\n",
              "  /* fitted */\n",
              "  background-color: var(--sklearn-color-fitted-level-3);\n",
              "  color: var(--sklearn-color-background);\n",
              "  text-decoration: none;\n",
              "}\n",
              "\n",
              "/* Span, style for the box shown on hovering the info icon */\n",
              ".sk-estimator-doc-link span {\n",
              "  display: none;\n",
              "  z-index: 9999;\n",
              "  position: relative;\n",
              "  font-weight: normal;\n",
              "  right: .2ex;\n",
              "  padding: .5ex;\n",
              "  margin: .5ex;\n",
              "  width: min-content;\n",
              "  min-width: 20ex;\n",
              "  max-width: 50ex;\n",
              "  color: var(--sklearn-color-text);\n",
              "  box-shadow: 2pt 2pt 4pt #999;\n",
              "  /* unfitted */\n",
              "  background: var(--sklearn-color-unfitted-level-0);\n",
              "  border: .5pt solid var(--sklearn-color-unfitted-level-3);\n",
              "}\n",
              "\n",
              ".sk-estimator-doc-link.fitted span {\n",
              "  /* fitted */\n",
              "  background: var(--sklearn-color-fitted-level-0);\n",
              "  border: var(--sklearn-color-fitted-level-3);\n",
              "}\n",
              "\n",
              ".sk-estimator-doc-link:hover span {\n",
              "  display: block;\n",
              "}\n",
              "\n",
              "/* \"?\"-specific style due to the `<a>` HTML tag */\n",
              "\n",
              "#sk-container-id-2 a.estimator_doc_link {\n",
              "  float: right;\n",
              "  font-size: 1rem;\n",
              "  line-height: 1em;\n",
              "  font-family: monospace;\n",
              "  background-color: var(--sklearn-color-background);\n",
              "  border-radius: 1rem;\n",
              "  height: 1rem;\n",
              "  width: 1rem;\n",
              "  text-decoration: none;\n",
              "  /* unfitted */\n",
              "  color: var(--sklearn-color-unfitted-level-1);\n",
              "  border: var(--sklearn-color-unfitted-level-1) 1pt solid;\n",
              "}\n",
              "\n",
              "#sk-container-id-2 a.estimator_doc_link.fitted {\n",
              "  /* fitted */\n",
              "  border: var(--sklearn-color-fitted-level-1) 1pt solid;\n",
              "  color: var(--sklearn-color-fitted-level-1);\n",
              "}\n",
              "\n",
              "/* On hover */\n",
              "#sk-container-id-2 a.estimator_doc_link:hover {\n",
              "  /* unfitted */\n",
              "  background-color: var(--sklearn-color-unfitted-level-3);\n",
              "  color: var(--sklearn-color-background);\n",
              "  text-decoration: none;\n",
              "}\n",
              "\n",
              "#sk-container-id-2 a.estimator_doc_link.fitted:hover {\n",
              "  /* fitted */\n",
              "  background-color: var(--sklearn-color-fitted-level-3);\n",
              "}\n",
              "</style><div id=\"sk-container-id-2\" class=\"sk-top-container\"><div class=\"sk-text-repr-fallback\"><pre>SVC(probability=True)</pre><b>In a Jupyter environment, please rerun this cell to show the HTML representation or trust the notebook. <br />On GitHub, the HTML representation is unable to render, please try loading this page with nbviewer.org.</b></div><div class=\"sk-container\" hidden><div class=\"sk-item\"><div class=\"sk-estimator fitted sk-toggleable\"><input class=\"sk-toggleable__control sk-hidden--visually\" id=\"sk-estimator-id-2\" type=\"checkbox\" checked><label for=\"sk-estimator-id-2\" class=\"sk-toggleable__label fitted sk-toggleable__label-arrow fitted\">&nbsp;&nbsp;SVC<a class=\"sk-estimator-doc-link fitted\" rel=\"noreferrer\" target=\"_blank\" href=\"https://scikit-learn.org/1.5/modules/generated/sklearn.svm.SVC.html\">?<span>Documentation for SVC</span></a><span class=\"sk-estimator-doc-link fitted\">i<span>Fitted</span></span></label><div class=\"sk-toggleable__content fitted\"><pre>SVC(probability=True)</pre></div> </div></div></div></div>"
            ]
          },
          "metadata": {},
          "execution_count": 70
        }
      ]
    },
    {
      "cell_type": "code",
      "source": [
        "# Predictions\n",
        "y_pred = svm_model.predict(X_test)\n",
        "y_pred_proba = svm_model.predict_proba(X_test)[:, 1]\n",
        "\n",
        "# Accuracy\n",
        "print(\"Accuracy:\", accuracy_score(y_test, y_pred))\n",
        "\n",
        "# Classification Report\n",
        "print(classification_report(y_test, y_pred))\n",
        "\n",
        "# ROC-AUC Score\n",
        "print(\"ROC-AUC Score:\", roc_auc_score(y_test, y_pred_proba))\n",
        "\n",
        "# ROC Curve\n",
        "fpr, tpr, _ = roc_curve(y_test, y_pred_proba)\n",
        "plt.plot(fpr, tpr, label='Logistic Regression')\n",
        "plt.xlabel('False Positive Rate')\n",
        "plt.ylabel('True Positive Rate')\n",
        "plt.title('ROC Curve')\n",
        "plt.legend()\n",
        "plt.show()"
      ],
      "metadata": {
        "colab": {
          "base_uri": "https://localhost:8080/",
          "height": 673
        },
        "id": "XXZzOTql55Ra",
        "outputId": "5d9f31d2-0d04-4311-f497-5fbcd0215e90"
      },
      "execution_count": 71,
      "outputs": [
        {
          "output_type": "stream",
          "name": "stdout",
          "text": [
            "Accuracy: 0.950319375443577\n",
            "              precision    recall  f1-score   support\n",
            "\n",
            "           0       0.95      0.98      0.97      1009\n",
            "           1       0.95      0.87      0.91       400\n",
            "\n",
            "    accuracy                           0.95      1409\n",
            "   macro avg       0.95      0.93      0.94      1409\n",
            "weighted avg       0.95      0.95      0.95      1409\n",
            "\n",
            "ROC-AUC Score: 0.983709117938553\n"
          ]
        },
        {
          "output_type": "display_data",
          "data": {
            "text/plain": [
              "<Figure size 640x480 with 1 Axes>"
            ],
            "image/png": "[encoded data removed]"
          },
          "metadata": {}
        }
      ]
    },
    {
      "cell_type": "code",
      "source": [
        "param_grid = {\n",
        "    'kernel': ['linear', 'rbf', 'poly', 'sigmoid']\n",
        "}\n",
        "\n",
        "grid_search = GridSearchCV(SVC(probability=True), param_grid, cv=5, verbose=2, n_jobs=-1)\n",
        "\n",
        "# Perform the grid search\n",
        "grid_search.fit(X_train, y_train)\n",
        "\n",
        "# Find the best parameters and score\n",
        "best_params = grid_search.best_params_\n",
        "best_score = grid_search.best_score_\n",
        "\n",
        "print(\"Best Parameters:\", best_params)\n",
        "print(\"Best Cross-Validation Score:\", best_score)"
      ],
      "metadata": {
        "colab": {
          "base_uri": "https://localhost:8080/"
        },
        "id": "E6rAqa1h6k8H",
        "outputId": "c1167d91-5d1d-47e2-bbbb-6451a03999a0"
      },
      "execution_count": 72,
      "outputs": [
        {
          "output_type": "stream",
          "name": "stdout",
          "text": [
            "Fitting 5 folds for each of 4 candidates, totalling 20 fits\n",
            "Best Parameters: {'kernel': 'linear'}\n",
            "Best Cross-Validation Score: 0.962548995194649\n"
          ]
        }
      ]
    },
    {
      "cell_type": "code",
      "source": [
        "best_svm_model = grid_search.best_estimator_\n",
        "\n",
        "# Predictions\n",
        "y_pred = best_svm_model.predict(X_test)\n",
        "y_pred_proba = best_svm_model.predict_proba(X_test)[:, 1]\n",
        "\n",
        "# Accuracy\n",
        "print(\"Accuracy:\", accuracy_score(y_test, y_pred))\n",
        "\n",
        "# Classification Report\n",
        "print(classification_report(y_test, y_pred))\n",
        "\n",
        "# ROC-AUC Score\n",
        "print(\"ROC-AUC Score:\", roc_auc_score(y_test, y_pred_proba))\n",
        "\n",
        "# ROC Curve\n",
        "fpr, tpr, _ = roc_curve(y_test, y_pred_proba)\n",
        "plt.plot(fpr, tpr, label='Logistic Regression')\n",
        "plt.xlabel('False Positive Rate')\n",
        "plt.ylabel('True Positive Rate')\n",
        "plt.title('ROC Curve')\n",
        "plt.legend()\n",
        "plt.show()"
      ],
      "metadata": {
        "colab": {
          "base_uri": "https://localhost:8080/",
          "height": 663
        },
        "id": "sA4PQeDWGkV3",
        "outputId": "3d174099-2ad4-4da1-8f47-39d6c581df96"
      },
      "execution_count": null,
      "outputs": [
        {
          "output_type": "stream",
          "name": "stdout",
          "text": [
            "Accuracy: 0.9595457771469127\n",
            "              precision    recall  f1-score   support\n",
            "\n",
            "           0       0.96      0.98      0.97      1032\n",
            "           1       0.94      0.90      0.92       377\n",
            "\n",
            "    accuracy                           0.96      1409\n",
            "   macro avg       0.95      0.94      0.95      1409\n",
            "weighted avg       0.96      0.96      0.96      1409\n",
            "\n",
            "ROC-AUC Score: 0.992347017457282\n"
          ]
        },
        {
          "output_type": "display_data",
          "data": {
            "text/plain": [
              "<Figure size 640x480 with 1 Axes>"
            ],
            "image/png": "[encoded data removed]"
          },
          "metadata": {}
        }
      ]
    },
    {
      "cell_type": "markdown",
      "source": [
        "## 4. SVM from scratch"
      ],
      "metadata": {
        "id": "uT3cnhefsY1t"
      }
    },
    {
      "cell_type": "markdown",
      "source": [
        "Implementing SVM from scratch involves the following steps:\n",
        "\n",
        "SVM finds the maximal margin hyperplane that separates the observations. The equation of a hyperplane is given by, $y(w.x - b)$\n",
        "\n",
        "1. **Objective Function**: The objective function in SVM is composed of two parts: a margin term and a hinge loss term for misclassification.\n",
        "\n",
        "  - Our goal is to minimize $\\quad \\frac{1}{2}\\|w\\|^2 + C \\sum_{i=1}^{n} \\max(0, 1 - y_i(w \\cdot x_i - b))$ where $C$ is the regularization parameter.\n",
        "  - Here, the first term encourages larger margins, and the second term is the cumulative hinge loss across all training samples, penalizes misclassifications.\n",
        "  - For the sake of simplicity, we chose the primal formulation for SVMs. We could also explore the dual formulation using Lagrange Multipliers which is better suited for implementing the kernel trick.\n",
        "\n",
        "2. **Gradient Descent**: We also have to develop the gradient descent algorithm to minimize the cost function. This involves calculating the gradient of the cost function and updating the model's parameters iteratively.\n",
        "  - The parameters $w$ and $b$ are updated as\n",
        "  \n",
        "    $w \\leftarrow w - \\alpha \\frac{\\partial J}{\\partial w}$ and\n",
        "  \n",
        "    $b \\leftarrow b - \\alpha \\frac{\\partial J}{\\partial b}$, where $\\alpha$ is the learning rate.\n",
        "\n",
        "  - The gradients are calculated as follows:\n",
        "  - if $y_i(w.x_i - b) \\geq 1$\n",
        "\n",
        "    $\\frac{\\partial J}{\\partial w} = w$\n",
        "\n",
        "    $\\frac{\\partial J}{\\partial b} = 0$\n",
        "\n",
        "  - if $y_i(w.x_i - b) < 1$\n",
        "\n",
        "    $\\frac{\\partial J}{\\partial w} = w - C y_i.x_i$\n",
        "\n",
        "    $\\frac{\\partial J}{\\partial b} = y_i$\n",
        "\n",
        "3. **Model Training**: Now, next step would be to use the gradient descent within a training function to fit the model to our data. We will also need to determine the number of iterations and the learning rate, which are usually the parameters given to us.\n",
        "\n",
        "4. **Prediction Function**: Once the model training is complete, we use the equation of the hyperplane to predict the labels for the dataset. All the points above the hyperplane will be classified as true cases, while the points below will be classified as false cases."
      ],
      "metadata": {
        "id": "mboMMD74sbwh"
      }
    },
    {
      "cell_type": "code",
      "source": [
        "class SimpleSVM:\n",
        "    def __init__(self, learning_rate=0.001, C=0.01, iterations=1000):\n",
        "        self.lr = learning_rate\n",
        "        self.C = C\n",
        "        self.epochs = iterations\n",
        "        self.w = None\n",
        "        self.b = None\n",
        "\n",
        "    def fit(self, X, y):\n",
        "        # Convert X to a NumPy array with dtype float64\n",
        "        X = np.array(X, dtype=np.float64)\n",
        "        y = np.array(y)\n",
        "        n_samples, n_features = X.shape\n",
        "        y_ = np.where(y <= 0, -1, 1)\n",
        "\n",
        "        self.w = np.zeros(n_features)\n",
        "        self.b = 0\n",
        "\n",
        "        for _ in range(self.epochs):\n",
        "            for idx, x_i in enumerate(X):\n",
        "                condition = y_[idx] * (np.dot(x_i, self.w) - self.b) >= 1\n",
        "                if condition:\n",
        "                    dw = self.w\n",
        "                    db = 0\n",
        "                else:\n",
        "                    dw = self.w - self.C * np.dot(x_i, y_[idx])\n",
        "                    db = self.C * y_[idx]\n",
        "\n",
        "                self.w -= self.lr * dw\n",
        "                self.b -= self.lr * db\n",
        "\n",
        "    def predict(self, X):\n",
        "        # Convert X to NumPy array with dtype float64\n",
        "        X = np.array(X, dtype=np.float64)\n",
        "        y_pred = np.sign(self.predict_proba(X))\n",
        "        return np.where(y_pred <= -1, 0, 1)\n",
        "\n",
        "    def predict_proba(self, X):\n",
        "        # Convert X to NumPy array with dtype float64\n",
        "        X = np.array(X, dtype=np.float64)\n",
        "        return np.dot(X, self.w) - self.b"
      ],
      "metadata": {
        "id": "7hxm7A1l4mqx"
      },
      "execution_count": 76,
      "outputs": []
    },
    {
      "cell_type": "code",
      "source": [
        "my_svm_model = SimpleSVM(iterations=150, C=10)\n",
        "my_svm_model.fit(X_train, y_train)"
      ],
      "metadata": {
        "id": "dOlvXpjYVZik"
      },
      "execution_count": 77,
      "outputs": []
    },
    {
      "cell_type": "code",
      "source": [
        "# Predictions\n",
        "y_pred = my_svm_model.predict(X_test)\n",
        "y_pred_proba = my_svm_model.predict_proba(X_test)\n",
        "\n",
        "# Accuracy\n",
        "print(\"Accuracy:\", accuracy_score(y_test, y_pred))\n",
        "\n",
        "# Classification Report\n",
        "print(classification_report(y_test, y_pred))\n",
        "\n",
        "# ROC-AUC Score\n",
        "print(\"ROC-AUC Score:\", roc_auc_score(y_test, y_pred_proba))\n",
        "\n",
        "# ROC Curve\n",
        "fpr, tpr, _ = roc_curve(y_test, y_pred_proba)\n",
        "plt.plot(fpr, tpr, label='Logistic Regression')\n",
        "plt.xlabel('False Positive Rate')\n",
        "plt.ylabel('True Positive Rate')\n",
        "plt.title('ROC Curve')\n",
        "plt.legend()\n",
        "plt.show()"
      ],
      "metadata": {
        "colab": {
          "base_uri": "https://localhost:8080/",
          "height": 673
        },
        "id": "CPd1Nv3MWZ6f",
        "outputId": "a6700448-3af0-4813-cf74-5c218015d9b1"
      },
      "execution_count": 78,
      "outputs": [
        {
          "output_type": "stream",
          "name": "stdout",
          "text": [
            "Accuracy: 0.9368346344925479\n",
            "              precision    recall  f1-score   support\n",
            "\n",
            "           0       0.94      0.97      0.96      1009\n",
            "           1       0.92      0.85      0.88       400\n",
            "\n",
            "    accuracy                           0.94      1409\n",
            "   macro avg       0.93      0.91      0.92      1409\n",
            "weighted avg       0.94      0.94      0.94      1409\n",
            "\n",
            "ROC-AUC Score: 0.978637264618434\n"
          ]
        },
        {
          "output_type": "display_data",
          "data": {
            "text/plain": [
              "<Figure size 640x480 with 1 Axes>"
            ],
            "image/png": "[encoded data removed]"
          },
          "metadata": {}
        }
      ]
    }
  ]
}